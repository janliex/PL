{
 "cells": [
  {
   "cell_type": "code",
   "execution_count": 5,
   "id": "2350aaf7",
   "metadata": {},
   "outputs": [
    {
     "name": "stdout",
     "output_type": "stream",
     "text": [
      "{'電腦多媒體', '程式語言', '瑜珈', '財務管理'} {'瑜珈', '程式語言'}\n",
      "{'財務管理', '電腦多媒體', '瑜珈', '程式語言'}\n"
     ]
    },
    {
     "ename": "TypeError",
     "evalue": "unhashable type: 'list'",
     "output_type": "error",
     "traceback": [
      "\u001b[0;31m---------------------------------------------------------------------------\u001b[0m",
      "\u001b[0;31mTypeError\u001b[0m                                 Traceback (most recent call last)",
      "Input \u001b[0;32mIn [5]\u001b[0m, in \u001b[0;36m<cell line: 11>\u001b[0;34m()\u001b[0m\n\u001b[1;32m      8\u001b[0m \u001b[38;5;28mprint\u001b[39m(timetable)\n\u001b[1;32m     10\u001b[0m \u001b[38;5;66;03m#不行放入串列\u001b[39;00m\n\u001b[0;32m---> 11\u001b[0m s \u001b[38;5;241m=\u001b[39m {[\u001b[38;5;124m\"\u001b[39m\u001b[38;5;124m程式語言\u001b[39m\u001b[38;5;124m\"\u001b[39m,\u001b[38;5;124m\"\u001b[39m\u001b[38;5;124m電腦多媒體\u001b[39m\u001b[38;5;124m\"\u001b[39m],\u001b[38;5;124m\"\u001b[39m\u001b[38;5;124m瑜珈\u001b[39m\u001b[38;5;124m\"\u001b[39m,\u001b[38;5;124m\"\u001b[39m\u001b[38;5;124m財務管理\u001b[39m\u001b[38;5;124m\"\u001b[39m}\n",
      "\u001b[0;31mTypeError\u001b[0m: unhashable type: 'list'"
     ]
    }
   ],
   "source": [
    "#set\n",
    "x = {\"程式語言\",\"電腦多媒體\",\"瑜珈\",\"財務管理\"}\n",
    "y = {\"程式語言\",\"瑜珈\"}\n",
    "print(x,y)\n",
    "\n",
    "z = [\"程式語言\",\"電腦多媒體\",\"瑜珈\",\"財務管理\"] \n",
    "timetable = set(z)\n",
    "print(timetable)\n",
    "\n",
    "#不行放入串列\n",
    "# Ex: s = {[\"程式語言\",\"電腦多媒體\"],\"瑜珈\",\"財務管理\"}"
   ]
  },
  {
   "cell_type": "code",
   "execution_count": 11,
   "id": "d2897a7d",
   "metadata": {},
   "outputs": [
    {
     "name": "stdout",
     "output_type": "stream",
     "text": [
      "{'瑜珈', '程式語言'}\n",
      "{'電腦多媒體', '程式語言', '環境與傳播', '瑜珈', '財務管理'}\n",
      "{'電腦多媒體', '財務管理'}\n",
      "{'環境與傳播'}\n",
      "{'電腦多媒體', '環境與傳播', '財務管理'}\n"
     ]
    }
   ],
   "source": [
    "x = {\"程式語言\",\"電腦多媒體\",\"瑜珈\",\"財務管理\"}\n",
    "y = {\"程式語言\",\"瑜珈\",\"環境與傳播\"}\n",
    "\n",
    "#交集 intersection - 一樣的\n",
    "print(x&y)\n",
    "\n",
    "#聯集union - 全部\n",
    "print(x|y) \n",
    "\n",
    "#差集difference - 不一樣的\n",
    "print(x-y)\n",
    "print(y-x)\n",
    "\n",
    "#對稱差集（全部減一樣的）\n",
    "print(x^y)"
   ]
  },
  {
   "cell_type": "code",
   "execution_count": 18,
   "id": "708c2cf5",
   "metadata": {},
   "outputs": [
    {
     "name": "stdout",
     "output_type": "stream",
     "text": [
      "第一個有這堂課嗎？ False\n",
      "第一個有這堂課嗎？ True\n",
      "第一個沒有這堂課？ True\n",
      "兩個人的課不一樣嗎？ True\n"
     ]
    }
   ],
   "source": [
    "#in & not in \n",
    "x = {\"程式語言\",\"電腦多媒體\",\"瑜珈\",\"財務管理\"}\n",
    "y = {\"程式語言\",\"瑜珈\",\"環境與傳播\"}\n",
    "\n",
    "print(\"第一個有這堂課嗎？\", \"環境與傳播\" in x) \n",
    "print(\"第一個有這堂課嗎？\", \"瑜珈\" in x) \n",
    "print(\"第一個沒有這堂課？\", \"環境與傳播\" not in x) \n",
    "print(\"兩個人的課不一樣嗎？\", x!=y) "
   ]
  },
  {
   "cell_type": "code",
   "execution_count": 25,
   "id": "df99412e",
   "metadata": {},
   "outputs": [
    {
     "name": "stdout",
     "output_type": "stream",
     "text": [
      "{'瑜珈'}\n",
      "{'瑜珈', '程式語言'}\n",
      "{'財務管理', '電腦多媒體', '瑜珈', '程式語言'}\n"
     ]
    }
   ],
   "source": [
    "#.add()＆.update()新增\n",
    "x = {\"瑜珈\"}\n",
    "print(x)\n",
    "x.add(\"程式語言\") #只能加一個\n",
    "print(x)\n",
    "\n",
    "y = {\"電腦多媒體\",\"財務管理\"} \n",
    "x.update(y) #加入多個\n",
    "print(x)"
   ]
  },
  {
   "cell_type": "code",
   "execution_count": 28,
   "id": "febaaf66",
   "metadata": {},
   "outputs": [
    {
     "name": "stdout",
     "output_type": "stream",
     "text": [
      "{'電腦多媒體', '程式語言', '財務管理'}\n",
      "電腦多媒體\n",
      "{'程式語言', '財務管理'}\n",
      "set()\n"
     ]
    }
   ],
   "source": [
    "#沒有del\n",
    "#.remove() 移除指定的\n",
    "x = {\"程式語言\",\"電腦多媒體\",\"瑜珈\",\"財務管理\"}\n",
    "x.remove(\"瑜珈\")\n",
    "print(x)\n",
    "\n",
    "#.pop() 任意刪除一個\n",
    "y = x.pop()\n",
    "print(y) #要被刪除的\n",
    "print(x) \n",
    "\n",
    "#.clear() 全部刪除\n",
    "x.clear()\n",
    "print(x)"
   ]
  },
  {
   "cell_type": "code",
   "execution_count": 32,
   "id": "ebc82cca",
   "metadata": {},
   "outputs": [
    {
     "name": "stdout",
     "output_type": "stream",
     "text": [
      "{'罰金', '沒收', '褫奪公權', '無期徒刑', '有期徒刑'}\n",
      "{'褫奪公權', '無期徒刑'}\n",
      "{'罰金'}\n",
      "a是否被課處罰金？ True\n",
      "b是否被課處罰金？ True\n"
     ]
    }
   ],
   "source": [
    "#練習\n",
    "a = {\"有期徒刑\", \"沒收\", \"罰金\"}\n",
    "b = {\"無期徒刑\", \"罰金\", \"褫奪公權\"}\n",
    "\n",
    "#1\n",
    "print(a|b)\n",
    "#2\n",
    "print(b-a)\n",
    "#3\n",
    "print(a&b)\n",
    "print(\"a是否被課處罰金？\",\"罰金\"in a)\n",
    "print(\"b是否被課處罰金？\",\"罰金\"in b)"
   ]
  },
  {
   "cell_type": "code",
   "execution_count": null,
   "id": "d90c651a",
   "metadata": {},
   "outputs": [],
   "source": []
  }
 ],
 "metadata": {
  "kernelspec": {
   "display_name": "Python 3 (ipykernel)",
   "language": "python",
   "name": "python3"
  },
  "language_info": {
   "codemirror_mode": {
    "name": "ipython",
    "version": 3
   },
   "file_extension": ".py",
   "mimetype": "text/x-python",
   "name": "python",
   "nbconvert_exporter": "python",
   "pygments_lexer": "ipython3",
   "version": "3.9.12"
  }
 },
 "nbformat": 4,
 "nbformat_minor": 5
}
