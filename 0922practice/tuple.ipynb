{
 "cells": [
  {
   "cell_type": "code",
   "execution_count": 3,
   "id": "c3aa02a6",
   "metadata": {},
   "outputs": [
    {
     "name": "stdout",
     "output_type": "stream",
     "text": [
      "(110, 111, 112, 113)\n",
      "大法官解釋a為釋字NO. 110\n",
      "(110, 111, 112, 113)\n",
      "[110, 111, 112, 113]\n"
     ]
    }
   ],
   "source": [
    "#tuple\n",
    "#元素不可變動\n",
    "\n",
    "tup = 110,111,112,113\n",
    "print(tup)\n",
    "\n",
    "a,b,c,d = tup\n",
    "print(\"大法官解釋a為釋字NO.\",a)\n",
    "\n",
    "thing = [110,111,112,113]\n",
    "tup = tuple(thing) \n",
    "print(tup) #tuple是括號\n",
    "\n",
    "thing = list(tup)\n",
    "print(thing)"
   ]
  },
  {
   "cell_type": "code",
   "execution_count": 6,
   "id": "ac8395a2",
   "metadata": {},
   "outputs": [
    {
     "name": "stdout",
     "output_type": "stream",
     "text": [
      "113\n",
      "(110, 111, 112, 113)\n"
     ]
    }
   ],
   "source": [
    "#index\n",
    "tup = (110,111,112,113)\n",
    "print(tup[-1]) #取元素\n",
    "print(tup[0:]) #切片"
   ]
  },
  {
   "cell_type": "code",
   "execution_count": 16,
   "id": "ab574a9b",
   "metadata": {},
   "outputs": [
    {
     "name": "stdout",
     "output_type": "stream",
     "text": [
      "<zip object at 0x7ffdb2efedc0>\n",
      "[('91/05/18', 1), ('90/12/26', 2), ('91/04/01', 3), ('91/05/14', 4)]\n",
      "日期： ('91/05/18', '90/12/26', '91/04/01', '91/05/14')\n",
      "數字： (1, 2, 3, 4)\n"
     ]
    }
   ],
   "source": [
    "#zip & unzip\n",
    "date = (\"91/05/18\", \"90/12/26\",\"91/04/01\",\"91/05/14\")\n",
    "num = (1,2,3,4)\n",
    "x = zip(date, num) \n",
    "print(x)\n",
    "#for i in x:\n",
    "#   print(x)\n",
    "y = list(x)\n",
    "print(y)\n",
    "\n",
    "date, num = zip(*y) #*unzip\n",
    "print(\"日期：\",date)\n",
    "print(\"數字：\",num)\n"
   ]
  },
  {
   "cell_type": "code",
   "execution_count": 19,
   "id": "bea87944",
   "metadata": {},
   "outputs": [
    {
     "name": "stdout",
     "output_type": "stream",
     "text": [
      "('最高法院民事判例', '最高法院刑事判例', '行政法院判例')\n",
      "[('最高法院民事判例', 7), ('最高法院刑事判例', 3), ('行政法院判例', 5)]\n"
     ]
    }
   ],
   "source": [
    "#練習 \n",
    "explain = (\"最高法院民事判例\",\"最高法院刑事判例\",\"行政法院判例\",\"大法官解釋\")\n",
    "num = (7,3,5,4)\n",
    "#1.\n",
    "explain_new = explain[:3] #取前三名\n",
    "print(explain_new)\n",
    "#2.\n",
    "x = zip(explain_new, num)\n",
    "print(list(x))"
   ]
  },
  {
   "cell_type": "code",
   "execution_count": null,
   "id": "2b53ae0c",
   "metadata": {},
   "outputs": [],
   "source": []
  }
 ],
 "metadata": {
  "kernelspec": {
   "display_name": "Python 3 (ipykernel)",
   "language": "python",
   "name": "python3"
  },
  "language_info": {
   "codemirror_mode": {
    "name": "ipython",
    "version": 3
   },
   "file_extension": ".py",
   "mimetype": "text/x-python",
   "name": "python",
   "nbconvert_exporter": "python",
   "pygments_lexer": "ipython3",
   "version": "3.9.12"
  }
 },
 "nbformat": 4,
 "nbformat_minor": 5
}
