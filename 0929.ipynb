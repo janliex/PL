{
 "cells": [
  {
   "cell_type": "code",
   "execution_count": 5,
   "id": "a0a034c2",
   "metadata": {},
   "outputs": [
    {
     "name": "stdout",
     "output_type": "stream",
     "text": [
      "dict_keys(['早上', '下午', '晚上'])\n",
      "dict_values([['程式語言', '資料庫理論', '環境與傳播'], ['瑜珈', '財務管理'], ['電腦網路原理與實作', '企業概論']])\n",
      "dict_items([('早上', ['程式語言', '資料庫理論', '環境與傳播']), ('下午', ['瑜珈', '財務管理']), ('晚上', ['電腦網路原理與實作', '企業概論'])])\n"
     ]
    }
   ],
   "source": [
    "#dict字典\n",
    "#用法：{key1:value1, key2:value2}\n",
    "x = {\"早上\": [\"程式語言\",\"資料庫理論\",\"環境與傳播\"],\n",
    "     \"下午\": [\"瑜珈\",\"財務管理\"] ,\n",
    "     \"晚上\": [\"電腦網路原理與實作\",\"企業概論\"]}\n",
    "print(x.keys()) \n",
    "print(x.values())\n",
    "print(x.items())"
   ]
  },
  {
   "cell_type": "code",
   "execution_count": null,
   "id": "929c8950",
   "metadata": {},
   "outputs": [],
   "source": []
  }
 ],
 "metadata": {
  "kernelspec": {
   "display_name": "Python 3 (ipykernel)",
   "language": "python",
   "name": "python3"
  },
  "language_info": {
   "codemirror_mode": {
    "name": "ipython",
    "version": 3
   },
   "file_extension": ".py",
   "mimetype": "text/x-python",
   "name": "python",
   "nbconvert_exporter": "python",
   "pygments_lexer": "ipython3",
   "version": "3.9.12"
  }
 },
 "nbformat": 4,
 "nbformat_minor": 5
}
