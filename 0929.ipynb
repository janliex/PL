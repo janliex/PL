{
 "cells": [
  {
   "cell_type": "code",
   "execution_count": 5,
   "id": "a0a034c2",
   "metadata": {},
   "outputs": [
    {
     "name": "stdout",
     "output_type": "stream",
     "text": [
      "dict_keys(['早上', '下午', '晚上'])\n",
      "dict_values([['程式語言', '資料庫理論', '環境與傳播'], ['瑜珈', '財務管理'], ['電腦網路原理與實作', '企業概論']])\n",
      "dict_items([('早上', ['程式語言', '資料庫理論', '環境與傳播']), ('下午', ['瑜珈', '財務管理']), ('晚上', ['電腦網路原理與實作', '企業概論'])])\n"
     ]
    }
   ],
   "source": [
    "#dict字典\n",
    "#用法：{key1:value1, key2:value2}\n",
    "x = {\"早上\": [\"程式語言\",\"資料庫理論\",\"環境與傳播\"],\n",
    "     \"下午\": [\"瑜珈\",\"財務管理\"] ,\n",
    "     \"晚上\": [\"電腦網路原理與實作\",\"企業概論\"]}\n",
    "print(x.keys()) \n",
    "print(x.values())\n",
    "print(x.items())"
   ]
  },
  {
   "cell_type": "code",
   "execution_count": 2,
   "id": "929c8950",
   "metadata": {},
   "outputs": [],
   "source": [
    "person1 = {\n",
    "    \"name\":\"甲\",\n",
    "    \"age\":40,\n",
    "    \"條例\":{\n",
    "        \"第62條\":\"汽車駕駛人駕駛汽車肇事\",\n",
    "        \"第12條\":\"汽車使用吊銷、註銷之牌照\"\n",
    "    },\n",
    "    \"罰鍰\":{\n",
    "        \"第62條\":2000,\n",
    "        \"第12條\":5000\n",
    "    }}\n",
    "\n",
    "person2 = {\n",
    "    \"name\":\"乙\",\n",
    "    \"age\":52,\n",
    "    \"條例\":{\n",
    "        \"第16條\":\"裝置高音量喇叭或其他產生噪音器物\",\n",
    "        \"第56條\":\"在禁制臨時停車處所停車\",\n",
    "        \"第82條\":\"未經許可在道路擺設攤位\",\n",
    "        \"第17條\":\"汽車不依限期參加定期檢驗或臨時檢驗\"\n",
    "    },\n",
    "    \"罰鍰\":{\n",
    "       \"第16條\":1200,\n",
    "        \"第56條\":800,\n",
    "        \"第82條\":1500,\n",
    "        \"第17條\":900\n",
    "    }}\n",
    "\n",
    "\n",
    "person3 = {\n",
    "    \"name\":\"丙\",\n",
    "    \"age\":63,\n",
    "    \"條例\":{\n",
    "        \"第21條\":\"未領有駕駛執照駕駛小型車或機車\"\n",
    "    },\n",
    "    \"罰鍰\":{\n",
    "       \"第21條\":8000\n",
    "    }}\n",
    "\n",
    "\n"
   ]
  },
  {
   "cell_type": "code",
   "execution_count": null,
   "id": "0dacf19b",
   "metadata": {},
   "outputs": [],
   "source": []
  }
 ],
 "metadata": {
  "kernelspec": {
   "display_name": "Python 3 (ipykernel)",
   "language": "python",
   "name": "python3"
  },
  "language_info": {
   "codemirror_mode": {
    "name": "ipython",
    "version": 3
   },
   "file_extension": ".py",
   "mimetype": "text/x-python",
   "name": "python",
   "nbconvert_exporter": "python",
   "pygments_lexer": "ipython3",
   "version": "3.9.12"
  }
 },
 "nbformat": 4,
 "nbformat_minor": 5
}
