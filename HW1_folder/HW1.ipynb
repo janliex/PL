{
 "cells": [
  {
   "cell_type": "code",
   "execution_count": 5,
   "id": "6d20ed32",
   "metadata": {},
   "outputs": [
    {
     "name": "stdout",
     "output_type": "stream",
     "text": [
      "     您的年級 您的性別 最喜歡喝的飲料種類\n",
      "0      大一  生理女        奶類\n",
      "1      大一  生理女        奶類\n",
      "2      大一  生理女      一般茶類\n",
      "3      大一  生理女      鮮果茶類\n",
      "4      大二  生理女        奶類\n",
      "..    ...  ...       ...\n",
      "114    大一  生理男        奶類\n",
      "115    大二  生理男      鮮果茶類\n",
      "116  大五以上  生理男      一般茶類\n",
      "117    大一  生理男      一般茶類\n",
      "118    大一  生理女        奶類\n",
      "\n",
      "[119 rows x 3 columns]\n"
     ]
    }
   ],
   "source": [
    "#比較不同性別與最喜歡喝的飲料種類\n",
    "#統計學的作業想要探討不同性別和喜歡喝的飲料種類是否差異很大\n",
    "#因此請師大將近120位同學幫忙填了表單\n",
    "#藉此來完成這次的作業！\n",
    "import pandas as pd\n",
    "data = pd.read_csv(\"Survey.csv\")\n",
    "print(data)"
   ]
  },
  {
   "cell_type": "code",
   "execution_count": 26,
   "id": "43861e95",
   "metadata": {},
   "outputs": [
    {
     "name": "stdout",
     "output_type": "stream",
     "text": [
      "總共人數: 119\n"
     ]
    }
   ],
   "source": [
    "#總數\n",
    "gender = list(data[\"您的性別\"])\n",
    "print(\"總共人數:\", len(data))"
   ]
  },
  {
   "cell_type": "code",
   "execution_count": 9,
   "id": "2063c074",
   "metadata": {},
   "outputs": [
    {
     "name": "stdout",
     "output_type": "stream",
     "text": [
      "0      生理女\n",
      "1      生理女\n",
      "2      生理女\n",
      "3      生理女\n",
      "4      生理女\n",
      "      ... \n",
      "114    生理男\n",
      "115    生理男\n",
      "116    生理男\n",
      "117    生理男\n",
      "118    生理女\n",
      "Name: 您的性別, Length: 119, dtype: object\n"
     ]
    }
   ],
   "source": [
    "#試印出單一類別的資訊\n",
    "print(data[\"您的性別\"])"
   ]
  },
  {
   "cell_type": "code",
   "execution_count": 11,
   "id": "0d083b76",
   "metadata": {},
   "outputs": [
    {
     "data": {
      "text/html": [
       "<div>\n",
       "<style scoped>\n",
       "    .dataframe tbody tr th:only-of-type {\n",
       "        vertical-align: middle;\n",
       "    }\n",
       "\n",
       "    .dataframe tbody tr th {\n",
       "        vertical-align: top;\n",
       "    }\n",
       "\n",
       "    .dataframe thead th {\n",
       "        text-align: right;\n",
       "    }\n",
       "</style>\n",
       "<table border=\"1\" class=\"dataframe\">\n",
       "  <thead>\n",
       "    <tr style=\"text-align: right;\">\n",
       "      <th></th>\n",
       "      <th>您的年級</th>\n",
       "      <th>您的性別</th>\n",
       "      <th>最喜歡喝的飲料種類</th>\n",
       "    </tr>\n",
       "  </thead>\n",
       "  <tbody>\n",
       "    <tr>\n",
       "      <th>62</th>\n",
       "      <td>大一</td>\n",
       "      <td>生理女</td>\n",
       "      <td>一般茶類</td>\n",
       "    </tr>\n",
       "    <tr>\n",
       "      <th>63</th>\n",
       "      <td>大一</td>\n",
       "      <td>生理女</td>\n",
       "      <td>奶類</td>\n",
       "    </tr>\n",
       "    <tr>\n",
       "      <th>64</th>\n",
       "      <td>大三</td>\n",
       "      <td>生理女</td>\n",
       "      <td>奶類</td>\n",
       "    </tr>\n",
       "    <tr>\n",
       "      <th>118</th>\n",
       "      <td>大一</td>\n",
       "      <td>生理女</td>\n",
       "      <td>奶類</td>\n",
       "    </tr>\n",
       "  </tbody>\n",
       "</table>\n",
       "</div>"
      ],
      "text/plain": [
       "    您的年級 您的性別 最喜歡喝的飲料種類\n",
       "62    大一  生理女      一般茶類\n",
       "63    大一  生理女        奶類\n",
       "64    大三  生理女        奶類\n",
       "118   大一  生理女        奶類"
      ]
     },
     "execution_count": 11,
     "metadata": {},
     "output_type": "execute_result"
    }
   ],
   "source": [
    "#試印出每位女生最喜歡喝的飲料種類\n",
    "girl = data[data['您的性別'].str.contains(\"生理女\")]\n",
    "girl.tail(4)"
   ]
  },
  {
   "cell_type": "code",
   "execution_count": 12,
   "id": "587dd852",
   "metadata": {},
   "outputs": [
    {
     "data": {
      "text/html": [
       "<div>\n",
       "<style scoped>\n",
       "    .dataframe tbody tr th:only-of-type {\n",
       "        vertical-align: middle;\n",
       "    }\n",
       "\n",
       "    .dataframe tbody tr th {\n",
       "        vertical-align: top;\n",
       "    }\n",
       "\n",
       "    .dataframe thead th {\n",
       "        text-align: right;\n",
       "    }\n",
       "</style>\n",
       "<table border=\"1\" class=\"dataframe\">\n",
       "  <thead>\n",
       "    <tr style=\"text-align: right;\">\n",
       "      <th></th>\n",
       "      <th>您的年級</th>\n",
       "      <th>您的性別</th>\n",
       "      <th>最喜歡喝的飲料種類</th>\n",
       "    </tr>\n",
       "  </thead>\n",
       "  <tbody>\n",
       "    <tr>\n",
       "      <th>108</th>\n",
       "      <td>大一</td>\n",
       "      <td>生理男</td>\n",
       "      <td>一般茶類</td>\n",
       "    </tr>\n",
       "    <tr>\n",
       "      <th>112</th>\n",
       "      <td>大一</td>\n",
       "      <td>生理男</td>\n",
       "      <td>一般茶類</td>\n",
       "    </tr>\n",
       "    <tr>\n",
       "      <th>116</th>\n",
       "      <td>大五以上</td>\n",
       "      <td>生理男</td>\n",
       "      <td>一般茶類</td>\n",
       "    </tr>\n",
       "    <tr>\n",
       "      <th>117</th>\n",
       "      <td>大一</td>\n",
       "      <td>生理男</td>\n",
       "      <td>一般茶類</td>\n",
       "    </tr>\n",
       "  </tbody>\n",
       "</table>\n",
       "</div>"
      ],
      "text/plain": [
       "     您的年級 您的性別 最喜歡喝的飲料種類\n",
       "108    大一  生理男      一般茶類\n",
       "112    大一  生理男      一般茶類\n",
       "116  大五以上  生理男      一般茶類\n",
       "117    大一  生理男      一般茶類"
      ]
     },
     "execution_count": 12,
     "metadata": {},
     "output_type": "execute_result"
    }
   ],
   "source": [
    "#試印出最喜歡喝的飲料種類為一般茶類的人\n",
    "tea = data[data['最喜歡喝的飲料種類'].str.contains(\"一般茶類\")]\n",
    "tea.tail(4)"
   ]
  },
  {
   "cell_type": "code",
   "execution_count": 12,
   "id": "78bfb525",
   "metadata": {},
   "outputs": [
    {
     "data": {
      "text/html": [
       "<div>\n",
       "<style scoped>\n",
       "    .dataframe tbody tr th:only-of-type {\n",
       "        vertical-align: middle;\n",
       "    }\n",
       "\n",
       "    .dataframe tbody tr th {\n",
       "        vertical-align: top;\n",
       "    }\n",
       "\n",
       "    .dataframe thead th {\n",
       "        text-align: right;\n",
       "    }\n",
       "</style>\n",
       "<table border=\"1\" class=\"dataframe\">\n",
       "  <thead>\n",
       "    <tr style=\"text-align: right;\">\n",
       "      <th></th>\n",
       "      <th>您的年級</th>\n",
       "      <th>您的性別</th>\n",
       "      <th>最喜歡喝的飲料種類</th>\n",
       "    </tr>\n",
       "  </thead>\n",
       "  <tbody>\n",
       "    <tr>\n",
       "      <th>2</th>\n",
       "      <td>大一</td>\n",
       "      <td>生理女</td>\n",
       "      <td>一般茶類</td>\n",
       "    </tr>\n",
       "    <tr>\n",
       "      <th>5</th>\n",
       "      <td>大一</td>\n",
       "      <td>生理女</td>\n",
       "      <td>一般茶類</td>\n",
       "    </tr>\n",
       "    <tr>\n",
       "      <th>8</th>\n",
       "      <td>大一</td>\n",
       "      <td>生理女</td>\n",
       "      <td>一般茶類</td>\n",
       "    </tr>\n",
       "    <tr>\n",
       "      <th>9</th>\n",
       "      <td>大一</td>\n",
       "      <td>生理女</td>\n",
       "      <td>一般茶類</td>\n",
       "    </tr>\n",
       "    <tr>\n",
       "      <th>13</th>\n",
       "      <td>大一</td>\n",
       "      <td>生理女</td>\n",
       "      <td>一般茶類</td>\n",
       "    </tr>\n",
       "  </tbody>\n",
       "</table>\n",
       "</div>"
      ],
      "text/plain": [
       "   您的年級 您的性別 最喜歡喝的飲料種類\n",
       "2    大一  生理女      一般茶類\n",
       "5    大一  生理女      一般茶類\n",
       "8    大一  生理女      一般茶類\n",
       "9    大一  生理女      一般茶類\n",
       "13   大一  生理女      一般茶類"
      ]
     },
     "execution_count": 12,
     "metadata": {},
     "output_type": "execute_result"
    }
   ],
   "source": [
    "#將上述兩個資料及進行比較\n",
    "#交集intersection(生理女 且 最喜歡喝一般茶類)\n",
    "intersection = data[(data[\"您的性別\"]==\"生理女\") & (data[\"最喜歡喝的飲料種類\"] == \"一般茶類\")]\n",
    "#印出結果中的五個\n",
    "intersection.head(5)"
   ]
  },
  {
   "cell_type": "code",
   "execution_count": 15,
   "id": "977dbcd6",
   "metadata": {},
   "outputs": [
    {
     "data": {
      "text/html": [
       "<div>\n",
       "<style scoped>\n",
       "    .dataframe tbody tr th:only-of-type {\n",
       "        vertical-align: middle;\n",
       "    }\n",
       "\n",
       "    .dataframe tbody tr th {\n",
       "        vertical-align: top;\n",
       "    }\n",
       "\n",
       "    .dataframe thead th {\n",
       "        text-align: right;\n",
       "    }\n",
       "</style>\n",
       "<table border=\"1\" class=\"dataframe\">\n",
       "  <thead>\n",
       "    <tr style=\"text-align: right;\">\n",
       "      <th></th>\n",
       "      <th>您的年級</th>\n",
       "      <th>您的性別</th>\n",
       "      <th>最喜歡喝的飲料種類</th>\n",
       "    </tr>\n",
       "  </thead>\n",
       "  <tbody>\n",
       "    <tr>\n",
       "      <th>108</th>\n",
       "      <td>大一</td>\n",
       "      <td>生理男</td>\n",
       "      <td>一般茶類</td>\n",
       "    </tr>\n",
       "    <tr>\n",
       "      <th>112</th>\n",
       "      <td>大一</td>\n",
       "      <td>生理男</td>\n",
       "      <td>一般茶類</td>\n",
       "    </tr>\n",
       "    <tr>\n",
       "      <th>116</th>\n",
       "      <td>大五以上</td>\n",
       "      <td>生理男</td>\n",
       "      <td>一般茶類</td>\n",
       "    </tr>\n",
       "    <tr>\n",
       "      <th>117</th>\n",
       "      <td>大一</td>\n",
       "      <td>生理男</td>\n",
       "      <td>一般茶類</td>\n",
       "    </tr>\n",
       "    <tr>\n",
       "      <th>118</th>\n",
       "      <td>大一</td>\n",
       "      <td>生理女</td>\n",
       "      <td>奶類</td>\n",
       "    </tr>\n",
       "  </tbody>\n",
       "</table>\n",
       "</div>"
      ],
      "text/plain": [
       "     您的年級 您的性別 最喜歡喝的飲料種類\n",
       "108    大一  生理男      一般茶類\n",
       "112    大一  生理男      一般茶類\n",
       "116  大五以上  生理男      一般茶類\n",
       "117    大一  生理男      一般茶類\n",
       "118    大一  生理女        奶類"
      ]
     },
     "execution_count": 15,
     "metadata": {},
     "output_type": "execute_result"
    }
   ],
   "source": [
    "#聯集union (生理女 或 最喜歡一般茶類)\n",
    "union = data[(data[\"您的性別\"]==\"生理女\") | (data[\"最喜歡喝的飲料種類\"] == \"一般茶類\")]\n",
    "#印出結果中的五個\n",
    "union.tail(5)"
   ]
  },
  {
   "cell_type": "code",
   "execution_count": 29,
   "id": "98d62d98",
   "metadata": {},
   "outputs": [
    {
     "data": {
      "text/html": [
       "<div>\n",
       "<style scoped>\n",
       "    .dataframe tbody tr th:only-of-type {\n",
       "        vertical-align: middle;\n",
       "    }\n",
       "\n",
       "    .dataframe tbody tr th {\n",
       "        vertical-align: top;\n",
       "    }\n",
       "\n",
       "    .dataframe thead th {\n",
       "        text-align: right;\n",
       "    }\n",
       "</style>\n",
       "<table border=\"1\" class=\"dataframe\">\n",
       "  <thead>\n",
       "    <tr style=\"text-align: right;\">\n",
       "      <th></th>\n",
       "      <th>您的年級</th>\n",
       "      <th>您的性別</th>\n",
       "      <th>最喜歡喝的飲料種類</th>\n",
       "    </tr>\n",
       "  </thead>\n",
       "  <tbody>\n",
       "    <tr>\n",
       "      <th>0</th>\n",
       "      <td>大一</td>\n",
       "      <td>生理女</td>\n",
       "      <td>奶類</td>\n",
       "    </tr>\n",
       "    <tr>\n",
       "      <th>1</th>\n",
       "      <td>大一</td>\n",
       "      <td>生理女</td>\n",
       "      <td>奶類</td>\n",
       "    </tr>\n",
       "    <tr>\n",
       "      <th>3</th>\n",
       "      <td>大一</td>\n",
       "      <td>生理女</td>\n",
       "      <td>鮮果茶類</td>\n",
       "    </tr>\n",
       "    <tr>\n",
       "      <th>4</th>\n",
       "      <td>大二</td>\n",
       "      <td>生理女</td>\n",
       "      <td>奶類</td>\n",
       "    </tr>\n",
       "    <tr>\n",
       "      <th>6</th>\n",
       "      <td>大一</td>\n",
       "      <td>生理女</td>\n",
       "      <td>咖啡類</td>\n",
       "    </tr>\n",
       "  </tbody>\n",
       "</table>\n",
       "</div>"
      ],
      "text/plain": [
       "  您的年級 您的性別 最喜歡喝的飲料種類\n",
       "0   大一  生理女        奶類\n",
       "1   大一  生理女        奶類\n",
       "3   大一  生理女      鮮果茶類\n",
       "4   大二  生理女        奶類\n",
       "6   大一  生理女       咖啡類"
      ]
     },
     "execution_count": 29,
     "metadata": {},
     "output_type": "execute_result"
    }
   ],
   "source": [
    "#差集difference (生理女 但不是 最喜歡一般茶類)\n",
    "data[(data[\"您的性別\"]==\"生理女\") & (data[\"最喜歡喝的飲料種類\"] != \"一般茶類\") ]\n",
    "#印出結果中的五個\n",
    "difference.head(5)"
   ]
  },
  {
   "cell_type": "code",
   "execution_count": 18,
   "id": "1a71b89a",
   "metadata": {},
   "outputs": [
    {
     "data": {
      "text/html": [
       "<div>\n",
       "<style scoped>\n",
       "    .dataframe tbody tr th:only-of-type {\n",
       "        vertical-align: middle;\n",
       "    }\n",
       "\n",
       "    .dataframe tbody tr th {\n",
       "        vertical-align: top;\n",
       "    }\n",
       "\n",
       "    .dataframe thead th {\n",
       "        text-align: right;\n",
       "    }\n",
       "</style>\n",
       "<table border=\"1\" class=\"dataframe\">\n",
       "  <thead>\n",
       "    <tr style=\"text-align: right;\">\n",
       "      <th></th>\n",
       "      <th>您的年級</th>\n",
       "      <th>您的性別</th>\n",
       "      <th>最喜歡喝的飲料種類</th>\n",
       "    </tr>\n",
       "  </thead>\n",
       "  <tbody>\n",
       "    <tr>\n",
       "      <th>108</th>\n",
       "      <td>大一</td>\n",
       "      <td>生理男</td>\n",
       "      <td>一般茶類</td>\n",
       "    </tr>\n",
       "    <tr>\n",
       "      <th>112</th>\n",
       "      <td>大一</td>\n",
       "      <td>生理男</td>\n",
       "      <td>一般茶類</td>\n",
       "    </tr>\n",
       "    <tr>\n",
       "      <th>116</th>\n",
       "      <td>大五以上</td>\n",
       "      <td>生理男</td>\n",
       "      <td>一般茶類</td>\n",
       "    </tr>\n",
       "    <tr>\n",
       "      <th>117</th>\n",
       "      <td>大一</td>\n",
       "      <td>生理男</td>\n",
       "      <td>一般茶類</td>\n",
       "    </tr>\n",
       "    <tr>\n",
       "      <th>118</th>\n",
       "      <td>大一</td>\n",
       "      <td>生理女</td>\n",
       "      <td>奶類</td>\n",
       "    </tr>\n",
       "  </tbody>\n",
       "</table>\n",
       "</div>"
      ],
      "text/plain": [
       "     您的年級 您的性別 最喜歡喝的飲料種類\n",
       "108    大一  生理男      一般茶類\n",
       "112    大一  生理男      一般茶類\n",
       "116  大五以上  生理男      一般茶類\n",
       "117    大一  生理男      一般茶類\n",
       "118    大一  生理女        奶類"
      ]
     },
     "execution_count": 18,
     "metadata": {},
     "output_type": "execute_result"
    }
   ],
   "source": [
    "#對稱差集symmetric_difference\n",
    "#生理女 但 最喜歡不是茶類\n",
    "#最喜歡茶類 但 生理男\n",
    "symmetric_difference = data[(data[\"您的性別\"]==\"生理女\") ^ (data[\"最喜歡喝的飲料種類\"] == \"一般茶類\")]\n",
    "#印出結果中的五個\n",
    "symmetric_difference.tail(5)"
   ]
  },
  {
   "cell_type": "code",
   "execution_count": null,
   "id": "1e576ee3",
   "metadata": {},
   "outputs": [],
   "source": []
  }
 ],
 "metadata": {
  "kernelspec": {
   "display_name": "Python 3 (ipykernel)",
   "language": "python",
   "name": "python3"
  },
  "language_info": {
   "codemirror_mode": {
    "name": "ipython",
    "version": 3
   },
   "file_extension": ".py",
   "mimetype": "text/x-python",
   "name": "python",
   "nbconvert_exporter": "python",
   "pygments_lexer": "ipython3",
   "version": "3.9.12"
  }
 },
 "nbformat": 4,
 "nbformat_minor": 5
}
