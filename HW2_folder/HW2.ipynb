{
 "cells": [
  {
   "cell_type": "code",
   "execution_count": 5,
   "id": "3e6fc8d6",
   "metadata": {},
   "outputs": [],
   "source": [
    "import json"
   ]
  },
  {
   "cell_type": "code",
   "execution_count": 6,
   "id": "c475d032",
   "metadata": {},
   "outputs": [
    {
     "data": {
      "text/plain": [
       "dict"
      ]
     },
     "execution_count": 6,
     "metadata": {},
     "output_type": "execute_result"
    }
   ],
   "source": [
    "#將json檔案傳入，存入dict中\n",
    "#這次的資料來源是政府公開平台的台灣各地區域密度！\n",
    "#因為台灣地區真的太多所以改做雙北地區！\n",
    "x = open(\"density.json\", encoding=\"utf8\")\n",
    "mydata = json.load(x)\n",
    "type(mydata)"
   ]
  },
  {
   "cell_type": "code",
   "execution_count": 10,
   "id": "e05cfa77",
   "metadata": {},
   "outputs": [
    {
     "data": {
      "text/plain": [
       "dict_items([('台灣地區', [{'statistic_yyy': 110, 'site_id': '新北市板橋區', 'people_total': 552713, 'area': 23.1373, 'population_density': 23888}, {'statistic_yyy': 110, 'site_id': '新北市三重區', 'people_total': 381731, 'area': 16.317, 'population_density': 23395}, {'statistic_yyy': 110, 'site_id': '新北市中和區', 'people_total': 406140, 'area': 20.144, 'population_density': 20162}, {'statistic_yyy': 110, 'site_id': '新北市永和區', 'people_total': 214967, 'area': 5.7138, 'population_density': 37622}, {'statistic_yyy': 110, 'site_id': '新北市新莊區', 'people_total': 421381, 'area': 19.7383, 'population_density': 21348}, {'statistic_yyy': 110, 'site_id': '新北市新店區', 'people_total': 299696, 'area': 120.2255, 'population_density': 2493}, {'statistic_yyy': 110, 'site_id': '新北市樹林區', 'people_total': 181903, 'area': 33.1288, 'population_density': 5491}, {'statistic_yyy': 110, 'site_id': '新北市鶯歌區', 'people_total': 88131, 'area': 21.1248, 'population_density': 4172}, {'statistic_yyy': 110, 'site_id': '新北市三峽區', 'people_total': 116019, 'area': 191.4508, 'population_density': 606}, {'statistic_yyy': 110, 'site_id': '新北市淡水區', 'people_total': 185197, 'area': 70.6565, 'population_density': 2621}, {'statistic_yyy': 110, 'site_id': '新北市汐止區', 'people_total': 205990, 'area': 71.2354, 'population_density': 2892}, {'statistic_yyy': 110, 'site_id': '新北市瑞芳區', 'people_total': 38449, 'area': 70.7336, 'population_density': 544}, {'statistic_yyy': 110, 'site_id': '新北市土城區', 'people_total': 237484, 'area': 29.5578, 'population_density': 8035}, {'statistic_yyy': 110, 'site_id': '新北市蘆洲區', 'people_total': 201489, 'area': 7.4351, 'population_density': 27100}, {'statistic_yyy': 110, 'site_id': '新北市五股區', 'people_total': 90465, 'area': 34.8632, 'population_density': 2595}, {'statistic_yyy': 110, 'site_id': '新北市泰山區', 'people_total': 77451, 'area': 19.1603, 'population_density': 4042}, {'statistic_yyy': 110, 'site_id': '新北市林口區', 'people_total': 124628, 'area': 54.1519, 'population_density': 2301}, {'statistic_yyy': 110, 'site_id': '新北市深坑區', 'people_total': 23646, 'area': 20.5787, 'population_density': 1149}, {'statistic_yyy': 110, 'site_id': '新北市石碇區', 'people_total': 7487, 'area': 144.3498, 'population_density': 52}, {'statistic_yyy': 110, 'site_id': '新北市坪林區', 'people_total': 6619, 'area': 170.835, 'population_density': 39}, {'statistic_yyy': 110, 'site_id': '新北市三芝區', 'people_total': 22357, 'area': 65.9909, 'population_density': 339}, {'statistic_yyy': 110, 'site_id': '新北市石門區', 'people_total': 11193, 'area': 51.2645, 'population_density': 218}, {'statistic_yyy': 110, 'site_id': '新北市八里區', 'people_total': 40178, 'area': 39.4933, 'population_density': 1017}, {'statistic_yyy': 110, 'site_id': '新北市平溪區', 'people_total': 4333, 'area': 71.3382, 'population_density': 61}, {'statistic_yyy': 110, 'site_id': '新北市雙溪區', 'people_total': 8235, 'area': 146.2484, 'population_density': 56}, {'statistic_yyy': 110, 'site_id': '新北市貢寮區', 'people_total': 11534, 'area': 99.9734, 'population_density': 115}, {'statistic_yyy': 110, 'site_id': '新北市金山區', 'people_total': 20844, 'area': 49.2132, 'population_density': 424}, {'statistic_yyy': 110, 'site_id': '新北市萬里區', 'people_total': 21462, 'area': 63.3766, 'population_density': 339}, {'statistic_yyy': 110, 'site_id': '新北市烏來區', 'people_total': 6391, 'area': 321.1306, 'population_density': 20}, {'statistic_yyy': 110, 'site_id': '臺北市松山區', 'people_total': 193388, 'area': 9.2878, 'population_density': 20822}, {'statistic_yyy': 110, 'site_id': '臺北市信義區', 'people_total': 207500, 'area': 11.2077, 'population_density': 18514}, {'statistic_yyy': 110, 'site_id': '臺北市大安區', 'people_total': 291410, 'area': 11.3614, 'population_density': 25649}, {'statistic_yyy': 110, 'site_id': '臺北市中山區', 'people_total': 215567, 'area': 13.6821, 'population_density': 15755}, {'statistic_yyy': 110, 'site_id': '臺北市中正區', 'people_total': 150644, 'area': 7.6071, 'population_density': 19803}, {'statistic_yyy': 110, 'site_id': '臺北市大同區', 'people_total': 120772, 'area': 5.6815, 'population_density': 21257}, {'statistic_yyy': 110, 'site_id': '臺北市萬華區', 'people_total': 176617, 'area': 8.8522, 'population_density': 19952}, {'statistic_yyy': 110, 'site_id': '臺北市文山區', 'people_total': 261576, 'area': 31.509, 'population_density': 8302}, {'statistic_yyy': 110, 'site_id': '臺北市南港區', 'people_total': 115780, 'area': 21.8424, 'population_density': 5301}, {'statistic_yyy': 110, 'site_id': '臺北市內湖區', 'people_total': 276707, 'area': 31.5787, 'population_density': 8762}, {'statistic_yyy': 110, 'site_id': '臺北市士林區', 'people_total': 269682, 'area': 62.3682, 'population_density': 4324}, {'statistic_yyy': 110, 'site_id': '臺北市北投區', 'people_total': 244750, 'area': 56.8216, 'population_density': 4307}])])"
      ]
     },
     "execution_count": 10,
     "metadata": {},
     "output_type": "execute_result"
    }
   ],
   "source": [
    "#查看資料內容\n",
    "mydata.items()"
   ]
  },
  {
   "cell_type": "code",
   "execution_count": 11,
   "id": "a0a88633",
   "metadata": {},
   "outputs": [],
   "source": [
    "temp = mydata.get('台灣地區')"
   ]
  },
  {
   "cell_type": "code",
   "execution_count": 12,
   "id": "9016b2e8",
   "metadata": {},
   "outputs": [
    {
     "name": "stdout",
     "output_type": "stream",
     "text": [
      "請輸入想查詢地區：新北市永和區\n",
      "人口密度為: 37622\n"
     ]
    }
   ],
   "source": [
    "#查詢想要了解的地區密度\n",
    "#臺北市的話要記得是\"臺\" \n",
    "ask = input(\"請輸入想查詢地區：\")\n",
    "for i in temp:\n",
    "    if ask == i.get('site_id'):\n",
    "        print(\"人口密度為:\", i.get(\"population_density\"))"
   ]
  },
  {
   "cell_type": "code",
   "execution_count": 13,
   "id": "039dddde",
   "metadata": {},
   "outputs": [
    {
     "data": {
      "text/plain": [
       "[23888,\n",
       " 23395,\n",
       " 20162,\n",
       " 37622,\n",
       " 21348,\n",
       " 2493,\n",
       " 5491,\n",
       " 4172,\n",
       " 606,\n",
       " 2621,\n",
       " 2892,\n",
       " 544,\n",
       " 8035,\n",
       " 27100,\n",
       " 2595,\n",
       " 4042,\n",
       " 2301,\n",
       " 1149,\n",
       " 52,\n",
       " 39,\n",
       " 339,\n",
       " 218,\n",
       " 1017,\n",
       " 61,\n",
       " 56,\n",
       " 115,\n",
       " 424,\n",
       " 339,\n",
       " 20,\n",
       " 20822,\n",
       " 18514,\n",
       " 25649,\n",
       " 15755,\n",
       " 19803,\n",
       " 21257,\n",
       " 19952,\n",
       " 8302,\n",
       " 5301,\n",
       " 8762,\n",
       " 4324,\n",
       " 4307]"
      ]
     },
     "execution_count": 13,
     "metadata": {},
     "output_type": "execute_result"
    }
   ],
   "source": [
    "#取得\"人口密度\"資料\n",
    "density = []\n",
    "for i in temp:\n",
    "    density.append(i.get(\"population_density\"))\n",
    "density"
   ]
  },
  {
   "cell_type": "code",
   "execution_count": 14,
   "id": "9faafa6d",
   "metadata": {},
   "outputs": [],
   "source": [
    "density_enumerate = enumerate(density, start = 1)"
   ]
  },
  {
   "cell_type": "code",
   "execution_count": 15,
   "id": "bfd2448f",
   "metadata": {},
   "outputs": [
    {
     "data": {
      "text/plain": [
       "[(29, 20),\n",
       " (20, 39),\n",
       " (19, 52),\n",
       " (25, 56),\n",
       " (24, 61),\n",
       " (26, 115),\n",
       " (22, 218),\n",
       " (21, 339),\n",
       " (28, 339),\n",
       " (27, 424),\n",
       " (12, 544),\n",
       " (9, 606),\n",
       " (23, 1017),\n",
       " (18, 1149),\n",
       " (17, 2301),\n",
       " (6, 2493),\n",
       " (15, 2595),\n",
       " (10, 2621),\n",
       " (11, 2892),\n",
       " (16, 4042),\n",
       " (8, 4172),\n",
       " (41, 4307),\n",
       " (40, 4324),\n",
       " (38, 5301),\n",
       " (7, 5491),\n",
       " (13, 8035),\n",
       " (37, 8302),\n",
       " (39, 8762),\n",
       " (33, 15755),\n",
       " (31, 18514),\n",
       " (34, 19803),\n",
       " (36, 19952),\n",
       " (3, 20162),\n",
       " (30, 20822),\n",
       " (35, 21257),\n",
       " (5, 21348),\n",
       " (2, 23395),\n",
       " (1, 23888),\n",
       " (32, 25649),\n",
       " (14, 27100),\n",
       " (4, 37622)]"
      ]
     },
     "execution_count": 15,
     "metadata": {},
     "output_type": "execute_result"
    }
   ],
   "source": [
    "#左邊是資料的第幾項 右邊是由小到大的人口密度\n",
    "density_enumerate_sorted = sorted(density_enumerate, key = lambda s: s[1], reverse = False)\n",
    "density_enumerate_sorted"
   ]
  },
  {
   "cell_type": "code",
   "execution_count": 18,
   "id": "5143f2a4",
   "metadata": {},
   "outputs": [
    {
     "data": {
      "text/plain": [
       "29"
      ]
     },
     "execution_count": 18,
     "metadata": {},
     "output_type": "execute_result"
    }
   ],
   "source": [
    "density_enumerate_sorted[0][0]"
   ]
  },
  {
   "cell_type": "code",
   "execution_count": 17,
   "id": "ce3783c1",
   "metadata": {},
   "outputs": [
    {
     "name": "stdout",
     "output_type": "stream",
     "text": [
      "新北市烏來區 人口密度是 20\n",
      "新北市坪林區 人口密度是 39\n",
      "新北市石碇區 人口密度是 52\n",
      "新北市雙溪區 人口密度是 56\n",
      "新北市平溪區 人口密度是 61\n",
      "新北市貢寮區 人口密度是 115\n",
      "新北市石門區 人口密度是 218\n",
      "新北市三芝區 人口密度是 339\n",
      "新北市萬里區 人口密度是 339\n",
      "新北市金山區 人口密度是 424\n",
      "新北市瑞芳區 人口密度是 544\n",
      "新北市三峽區 人口密度是 606\n",
      "新北市八里區 人口密度是 1017\n",
      "新北市深坑區 人口密度是 1149\n",
      "新北市林口區 人口密度是 2301\n",
      "新北市新店區 人口密度是 2493\n",
      "新北市五股區 人口密度是 2595\n",
      "新北市淡水區 人口密度是 2621\n",
      "新北市汐止區 人口密度是 2892\n",
      "新北市泰山區 人口密度是 4042\n",
      "新北市鶯歌區 人口密度是 4172\n",
      "臺北市北投區 人口密度是 4307\n",
      "臺北市士林區 人口密度是 4324\n",
      "臺北市南港區 人口密度是 5301\n",
      "新北市樹林區 人口密度是 5491\n",
      "新北市土城區 人口密度是 8035\n",
      "臺北市文山區 人口密度是 8302\n",
      "臺北市內湖區 人口密度是 8762\n",
      "臺北市中山區 人口密度是 15755\n",
      "臺北市信義區 人口密度是 18514\n",
      "臺北市中正區 人口密度是 19803\n",
      "臺北市萬華區 人口密度是 19952\n",
      "新北市中和區 人口密度是 20162\n",
      "臺北市松山區 人口密度是 20822\n",
      "臺北市大同區 人口密度是 21257\n",
      "新北市新莊區 人口密度是 21348\n",
      "新北市三重區 人口密度是 23395\n",
      "新北市板橋區 人口密度是 23888\n",
      "臺北市大安區 人口密度是 25649\n",
      "新北市蘆洲區 人口密度是 27100\n",
      "新北市永和區 人口密度是 37622\n"
     ]
    }
   ],
   "source": [
    "#印出排序過由小到大相對應的地區和密度\n",
    "for i in density_enumerate_sorted:\n",
    "    j = i[0] - 1\n",
    "    print(temp[j].get('site_id'),'人口密度是', temp[j].get('population_density'))"
   ]
  },
  {
   "cell_type": "code",
   "execution_count": null,
   "id": "6fcaf413",
   "metadata": {},
   "outputs": [],
   "source": [
    "#永和區真的是雙北中密度最高哈哈"
   ]
  }
 ],
 "metadata": {
  "kernelspec": {
   "display_name": "Python 3 (ipykernel)",
   "language": "python",
   "name": "python3"
  },
  "language_info": {
   "codemirror_mode": {
    "name": "ipython",
    "version": 3
   },
   "file_extension": ".py",
   "mimetype": "text/x-python",
   "name": "python",
   "nbconvert_exporter": "python",
   "pygments_lexer": "ipython3",
   "version": "3.9.12"
  }
 },
 "nbformat": 4,
 "nbformat_minor": 5
}
