{
 "cells": [
  {
   "cell_type": "code",
   "execution_count": 124,
   "id": "3b06bdbc",
   "metadata": {},
   "outputs": [],
   "source": [
    "import requests\n",
    "from bs4 import BeautifulSoup"
   ]
  },
  {
   "cell_type": "code",
   "execution_count": 125,
   "id": "a5cc67b8",
   "metadata": {},
   "outputs": [
    {
     "name": "stdout",
     "output_type": "stream",
     "text": [
      "看板 Food 文章列表 - 批踢踢實業坊\n"
     ]
    }
   ],
   "source": [
    "#來爬美食版！畢竟自己很愛吃 ><\n",
    "url = \"https://www.ptt.cc/bbs/Food/index.html\" \n",
    "web = requests.get(url) #取得網頁內容\n",
    "soup = BeautifulSoup(web.text, \"html.parser\") #使用html.parser解析器\n",
    "title = soup.title\n",
    "print(title.text) #印出title的文字 "
   ]
  },
  {
   "cell_type": "code",
   "execution_count": 126,
   "id": "67fe2b23",
   "metadata": {},
   "outputs": [
    {
     "name": "stdout",
     "output_type": "stream",
     "text": [
      "日期:11/01  網址: https://www.ptt.cc//bbs/Food/M.1667303082.A.2F0.html  [廣宣] 竹北 添好運 ~連續12年米其林1星<入會禮>\n",
      "日期:11/01  網址: https://www.ptt.cc//bbs/Food/M.1667305647.A.6A5.html  [食記] 桃園 成真咖啡．彩虹飯、舒芙蕾推薦!\n",
      "日期:11/01  網址: https://www.ptt.cc//bbs/Food/M.1667308772.A.9CC.html  [食記] 台南 樑記正老店牛肉湯\n",
      "日期:11/01  網址: https://www.ptt.cc//bbs/Food/M.1667310903.A.14D.html  [食記] 嘉義 黃毛丫頭 東山鴨頭\n",
      "日期:11/01  網址: https://www.ptt.cc//bbs/Food/M.1667316718.A.E4E.html  [食記] 新北 野營咖哩\n",
      "日期:11/02  網址: https://www.ptt.cc//bbs/Food/M.1667319197.A.097.html  [食記] 台北 默爾誠品信義～看得到101的景觀餐廳\n",
      "日期:11/02  網址: https://www.ptt.cc//bbs/Food/M.1667323347.A.513.html  [食記] 台北 士林 一家食堂\n",
      "日期:11/02  網址: https://www.ptt.cc//bbs/Food/M.1667330020.A.603.html  [食記]胖福手作早午餐\n",
      "日期:11/02  網址: https://www.ptt.cc//bbs/Food/M.1667355631.A.C7F.html  [食記] 新北八里 美好時光 預約制咖啡廳\n",
      "日期:11/02  網址: https://www.ptt.cc//bbs/Food/M.1667359201.A.38C.html  [食記] 台北 欣葉日本料理健康店 秋季美食全品項\n",
      "日期:11/02  網址: https://www.ptt.cc//bbs/Food/M.1667364043.A.0D4.html  [食記] 嘉義.中埔-頂六江家火雞肉飯\n",
      "日期:11/02  網址: https://www.ptt.cc//bbs/Food/M.1667364417.A.00E.html  [轉讓] 11/24澀Sur 2位 交換其他天假日\n",
      "日期:11/02  網址: https://www.ptt.cc//bbs/Food/M.1667368892.A.3C0.html  [食記] 苗栗 圓聚鼎小籠包\n",
      "日期:11/02  網址: https://www.ptt.cc//bbs/Food/M.1667369307.A.801.html  [食記] 台南歸仁 歸仁雞蛋糕 \n",
      "日期:11/02  網址: https://www.ptt.cc//bbs/Food/M.1667369563.A.1E0.html  [食記] 高雄三民區 41EARLYBAR明誠店 早午餐土司\n",
      "日期:11/02  網址: https://www.ptt.cc//bbs/Food/M.1667369710.A.16E.html  [食記] 新店 小碧潭站 老中央餅坊 央北燒餅\n",
      "日期:11/02  網址: https://www.ptt.cc//bbs/Food/M.1667369747.A.32D.html  [食記] 台南歸仁 關廟阿美魯麵\n",
      "日期:12/16  網址: https://www.ptt.cc//bbs/Food/M.1355673582.A.5F7.html  [公告] Food板 板規 V3.91\n",
      "日期: 9/28  網址: https://www.ptt.cc//bbs/Food/M.1190944426.A.E6C.html  [公告] 發文請在標題加上地區及提供地址電話。^^\n",
      "日期:10/01  網址: https://www.ptt.cc//bbs/Food/M.1128132666.A.0FD.html  [公告] 文章被刪除者請洽精華區的資源回收桶\n",
      "日期: 6/04  網址: https://www.ptt.cc//bbs/Food/M.1496532469.A.C36.html  [公告] 新增板規22：發文禁附延伸閱讀連結\n"
     ]
    }
   ],
   "source": [
    "# 將資料一條一條列出\n",
    "for data in datas:\n",
    "    print(\"日期:\"+ data.find('div', class_='date').text, end=\"  \") \n",
    "    print(\"網址: \"+\"https://www.ptt.cc/\" + data.a.get(\"href\"), end=\"  \")\n",
    "    print(data.a.text)"
   ]
  },
  {
   "cell_type": "code",
   "execution_count": 127,
   "id": "513aa1df",
   "metadata": {},
   "outputs": [],
   "source": [
    "#將資料存成csv檔\n",
    "import csv\n",
    "\n",
    "with open(\"food.csv\", \"w\", newline='') as csvfile:\n",
    "    write = csv.writer(csvfile)\n",
    "    write.writerow([\"日期\", \"網址\", \"標題\"])\n",
    "    for data in datas: #將一個一個資料讀入\n",
    "        date = data.find('div', class_='date').text\n",
    "        web = \"https://www.ptt.cc/\" + data.a.get(\"href\")\n",
    "        title = data.a.text\n",
    "        write.writerow([date, web, title]) #項目"
   ]
  },
  {
   "cell_type": "code",
   "execution_count": 128,
   "id": "bc40528f",
   "metadata": {},
   "outputs": [
    {
     "data": {
      "text/html": [
       "<div>\n",
       "<style scoped>\n",
       "    .dataframe tbody tr th:only-of-type {\n",
       "        vertical-align: middle;\n",
       "    }\n",
       "\n",
       "    .dataframe tbody tr th {\n",
       "        vertical-align: top;\n",
       "    }\n",
       "\n",
       "    .dataframe thead th {\n",
       "        text-align: right;\n",
       "    }\n",
       "</style>\n",
       "<table border=\"1\" class=\"dataframe\">\n",
       "  <thead>\n",
       "    <tr style=\"text-align: right;\">\n",
       "      <th></th>\n",
       "      <th>日期</th>\n",
       "      <th>網址</th>\n",
       "      <th>標題</th>\n",
       "    </tr>\n",
       "  </thead>\n",
       "  <tbody>\n",
       "    <tr>\n",
       "      <th>0</th>\n",
       "      <td>11/01</td>\n",
       "      <td>https://www.ptt.cc//bbs/Food/M.1667303082.A.2F...</td>\n",
       "      <td>[廣宣] 竹北 添好運 ~連續12年米其林1星&lt;入會禮&gt;</td>\n",
       "    </tr>\n",
       "    <tr>\n",
       "      <th>1</th>\n",
       "      <td>11/01</td>\n",
       "      <td>https://www.ptt.cc//bbs/Food/M.1667305647.A.6A...</td>\n",
       "      <td>[食記] 桃園 成真咖啡．彩虹飯、舒芙蕾推薦!</td>\n",
       "    </tr>\n",
       "    <tr>\n",
       "      <th>2</th>\n",
       "      <td>11/01</td>\n",
       "      <td>https://www.ptt.cc//bbs/Food/M.1667308772.A.9C...</td>\n",
       "      <td>[食記] 台南 樑記正老店牛肉湯</td>\n",
       "    </tr>\n",
       "    <tr>\n",
       "      <th>3</th>\n",
       "      <td>11/01</td>\n",
       "      <td>https://www.ptt.cc//bbs/Food/M.1667310903.A.14...</td>\n",
       "      <td>[食記] 嘉義 黃毛丫頭 東山鴨頭</td>\n",
       "    </tr>\n",
       "    <tr>\n",
       "      <th>4</th>\n",
       "      <td>11/01</td>\n",
       "      <td>https://www.ptt.cc//bbs/Food/M.1667316718.A.E4...</td>\n",
       "      <td>[食記] 新北 野營咖哩</td>\n",
       "    </tr>\n",
       "    <tr>\n",
       "      <th>5</th>\n",
       "      <td>11/02</td>\n",
       "      <td>https://www.ptt.cc//bbs/Food/M.1667319197.A.09...</td>\n",
       "      <td>[食記] 台北 默爾誠品信義～看得到101的景觀餐廳</td>\n",
       "    </tr>\n",
       "    <tr>\n",
       "      <th>6</th>\n",
       "      <td>11/02</td>\n",
       "      <td>https://www.ptt.cc//bbs/Food/M.1667323347.A.51...</td>\n",
       "      <td>[食記] 台北 士林 一家食堂</td>\n",
       "    </tr>\n",
       "    <tr>\n",
       "      <th>7</th>\n",
       "      <td>11/02</td>\n",
       "      <td>https://www.ptt.cc//bbs/Food/M.1667330020.A.60...</td>\n",
       "      <td>[食記]胖福手作早午餐</td>\n",
       "    </tr>\n",
       "    <tr>\n",
       "      <th>8</th>\n",
       "      <td>11/02</td>\n",
       "      <td>https://www.ptt.cc//bbs/Food/M.1667355631.A.C7...</td>\n",
       "      <td>[食記] 新北八里 美好時光 預約制咖啡廳</td>\n",
       "    </tr>\n",
       "    <tr>\n",
       "      <th>9</th>\n",
       "      <td>11/02</td>\n",
       "      <td>https://www.ptt.cc//bbs/Food/M.1667359201.A.38...</td>\n",
       "      <td>[食記] 台北 欣葉日本料理健康店 秋季美食全品項</td>\n",
       "    </tr>\n",
       "    <tr>\n",
       "      <th>10</th>\n",
       "      <td>11/02</td>\n",
       "      <td>https://www.ptt.cc//bbs/Food/M.1667364043.A.0D...</td>\n",
       "      <td>[食記] 嘉義.中埔-頂六江家火雞肉飯</td>\n",
       "    </tr>\n",
       "    <tr>\n",
       "      <th>11</th>\n",
       "      <td>11/02</td>\n",
       "      <td>https://www.ptt.cc//bbs/Food/M.1667364417.A.00...</td>\n",
       "      <td>[轉讓] 11/24澀Sur 2位 交換其他天假日</td>\n",
       "    </tr>\n",
       "    <tr>\n",
       "      <th>12</th>\n",
       "      <td>11/02</td>\n",
       "      <td>https://www.ptt.cc//bbs/Food/M.1667368892.A.3C...</td>\n",
       "      <td>[食記] 苗栗 圓聚鼎小籠包</td>\n",
       "    </tr>\n",
       "    <tr>\n",
       "      <th>13</th>\n",
       "      <td>11/02</td>\n",
       "      <td>https://www.ptt.cc//bbs/Food/M.1667369307.A.80...</td>\n",
       "      <td>[食記] 台南歸仁 歸仁雞蛋糕</td>\n",
       "    </tr>\n",
       "    <tr>\n",
       "      <th>14</th>\n",
       "      <td>11/02</td>\n",
       "      <td>https://www.ptt.cc//bbs/Food/M.1667369563.A.1E...</td>\n",
       "      <td>[食記] 高雄三民區 41EARLYBAR明誠店 早午餐土司</td>\n",
       "    </tr>\n",
       "    <tr>\n",
       "      <th>15</th>\n",
       "      <td>11/02</td>\n",
       "      <td>https://www.ptt.cc//bbs/Food/M.1667369710.A.16...</td>\n",
       "      <td>[食記] 新店 小碧潭站 老中央餅坊 央北燒餅</td>\n",
       "    </tr>\n",
       "    <tr>\n",
       "      <th>16</th>\n",
       "      <td>11/02</td>\n",
       "      <td>https://www.ptt.cc//bbs/Food/M.1667369747.A.32...</td>\n",
       "      <td>[食記] 台南歸仁 關廟阿美魯麵</td>\n",
       "    </tr>\n",
       "    <tr>\n",
       "      <th>17</th>\n",
       "      <td>12/16</td>\n",
       "      <td>https://www.ptt.cc//bbs/Food/M.1355673582.A.5F...</td>\n",
       "      <td>[公告] Food板 板規 V3.91</td>\n",
       "    </tr>\n",
       "    <tr>\n",
       "      <th>18</th>\n",
       "      <td>9/28</td>\n",
       "      <td>https://www.ptt.cc//bbs/Food/M.1190944426.A.E6...</td>\n",
       "      <td>[公告] 發文請在標題加上地區及提供地址電話。^^</td>\n",
       "    </tr>\n",
       "    <tr>\n",
       "      <th>19</th>\n",
       "      <td>10/01</td>\n",
       "      <td>https://www.ptt.cc//bbs/Food/M.1128132666.A.0F...</td>\n",
       "      <td>[公告] 文章被刪除者請洽精華區的資源回收桶</td>\n",
       "    </tr>\n",
       "    <tr>\n",
       "      <th>20</th>\n",
       "      <td>6/04</td>\n",
       "      <td>https://www.ptt.cc//bbs/Food/M.1496532469.A.C3...</td>\n",
       "      <td>[公告] 新增板規22：發文禁附延伸閱讀連結</td>\n",
       "    </tr>\n",
       "  </tbody>\n",
       "</table>\n",
       "</div>"
      ],
      "text/plain": [
       "       日期                                                 網址  \\\n",
       "0   11/01  https://www.ptt.cc//bbs/Food/M.1667303082.A.2F...   \n",
       "1   11/01  https://www.ptt.cc//bbs/Food/M.1667305647.A.6A...   \n",
       "2   11/01  https://www.ptt.cc//bbs/Food/M.1667308772.A.9C...   \n",
       "3   11/01  https://www.ptt.cc//bbs/Food/M.1667310903.A.14...   \n",
       "4   11/01  https://www.ptt.cc//bbs/Food/M.1667316718.A.E4...   \n",
       "5   11/02  https://www.ptt.cc//bbs/Food/M.1667319197.A.09...   \n",
       "6   11/02  https://www.ptt.cc//bbs/Food/M.1667323347.A.51...   \n",
       "7   11/02  https://www.ptt.cc//bbs/Food/M.1667330020.A.60...   \n",
       "8   11/02  https://www.ptt.cc//bbs/Food/M.1667355631.A.C7...   \n",
       "9   11/02  https://www.ptt.cc//bbs/Food/M.1667359201.A.38...   \n",
       "10  11/02  https://www.ptt.cc//bbs/Food/M.1667364043.A.0D...   \n",
       "11  11/02  https://www.ptt.cc//bbs/Food/M.1667364417.A.00...   \n",
       "12  11/02  https://www.ptt.cc//bbs/Food/M.1667368892.A.3C...   \n",
       "13  11/02  https://www.ptt.cc//bbs/Food/M.1667369307.A.80...   \n",
       "14  11/02  https://www.ptt.cc//bbs/Food/M.1667369563.A.1E...   \n",
       "15  11/02  https://www.ptt.cc//bbs/Food/M.1667369710.A.16...   \n",
       "16  11/02  https://www.ptt.cc//bbs/Food/M.1667369747.A.32...   \n",
       "17  12/16  https://www.ptt.cc//bbs/Food/M.1355673582.A.5F...   \n",
       "18   9/28  https://www.ptt.cc//bbs/Food/M.1190944426.A.E6...   \n",
       "19  10/01  https://www.ptt.cc//bbs/Food/M.1128132666.A.0F...   \n",
       "20   6/04  https://www.ptt.cc//bbs/Food/M.1496532469.A.C3...   \n",
       "\n",
       "                                標題  \n",
       "0     [廣宣] 竹北 添好運 ~連續12年米其林1星<入會禮>  \n",
       "1          [食記] 桃園 成真咖啡．彩虹飯、舒芙蕾推薦!  \n",
       "2                 [食記] 台南 樑記正老店牛肉湯  \n",
       "3                [食記] 嘉義 黃毛丫頭 東山鴨頭  \n",
       "4                     [食記] 新北 野營咖哩  \n",
       "5       [食記] 台北 默爾誠品信義～看得到101的景觀餐廳  \n",
       "6                  [食記] 台北 士林 一家食堂  \n",
       "7                      [食記]胖福手作早午餐  \n",
       "8            [食記] 新北八里 美好時光 預約制咖啡廳  \n",
       "9        [食記] 台北 欣葉日本料理健康店 秋季美食全品項  \n",
       "10             [食記] 嘉義.中埔-頂六江家火雞肉飯  \n",
       "11       [轉讓] 11/24澀Sur 2位 交換其他天假日  \n",
       "12                  [食記] 苗栗 圓聚鼎小籠包  \n",
       "13                [食記] 台南歸仁 歸仁雞蛋糕   \n",
       "14  [食記] 高雄三民區 41EARLYBAR明誠店 早午餐土司  \n",
       "15         [食記] 新店 小碧潭站 老中央餅坊 央北燒餅  \n",
       "16                [食記] 台南歸仁 關廟阿美魯麵  \n",
       "17             [公告] Food板 板規 V3.91  \n",
       "18       [公告] 發文請在標題加上地區及提供地址電話。^^  \n",
       "19          [公告] 文章被刪除者請洽精華區的資源回收桶  \n",
       "20          [公告] 新增板規22：發文禁附延伸閱讀連結  "
      ]
     },
     "execution_count": 128,
     "metadata": {},
     "output_type": "execute_result"
    }
   ],
   "source": [
    "#讀取csv檔案\n",
    "import pandas as pd\n",
    "mycsv = pd.read_csv(\"food.csv\")\n",
    "mycsv   "
   ]
  },
  {
   "cell_type": "code",
   "execution_count": 129,
   "id": "007d9238",
   "metadata": {},
   "outputs": [
    {
     "name": "stdout",
     "output_type": "stream",
     "text": [
      "[{'date': '11/01', 'link': 'https://www.ptt.cc//bbs/Food/M.1667303082.A.2F0.html', 'title': '[廣宣] 竹北 添好運 ~連續12年米其林1星<入會禮>'}, {'date': '11/01', 'link': 'https://www.ptt.cc//bbs/Food/M.1667305647.A.6A5.html', 'title': '[食記] 桃園 成真咖啡．彩虹飯、舒芙蕾推薦!'}, {'date': '11/01', 'link': 'https://www.ptt.cc//bbs/Food/M.1667308772.A.9CC.html', 'title': '[食記] 台南 樑記正老店牛肉湯'}, {'date': '11/01', 'link': 'https://www.ptt.cc//bbs/Food/M.1667310903.A.14D.html', 'title': '[食記] 嘉義 黃毛丫頭 東山鴨頭'}, {'date': '11/01', 'link': 'https://www.ptt.cc//bbs/Food/M.1667316718.A.E4E.html', 'title': '[食記] 新北 野營咖哩'}, {'date': '11/02', 'link': 'https://www.ptt.cc//bbs/Food/M.1667319197.A.097.html', 'title': '[食記] 台北 默爾誠品信義～看得到101的景觀餐廳'}, {'date': '11/02', 'link': 'https://www.ptt.cc//bbs/Food/M.1667323347.A.513.html', 'title': '[食記] 台北 士林 一家食堂'}, {'date': '11/02', 'link': 'https://www.ptt.cc//bbs/Food/M.1667330020.A.603.html', 'title': '[食記]胖福手作早午餐'}, {'date': '11/02', 'link': 'https://www.ptt.cc//bbs/Food/M.1667355631.A.C7F.html', 'title': '[食記] 新北八里 美好時光 預約制咖啡廳'}, {'date': '11/02', 'link': 'https://www.ptt.cc//bbs/Food/M.1667359201.A.38C.html', 'title': '[食記] 台北 欣葉日本料理健康店 秋季美食全品項'}, {'date': '11/02', 'link': 'https://www.ptt.cc//bbs/Food/M.1667364043.A.0D4.html', 'title': '[食記] 嘉義.中埔-頂六江家火雞肉飯'}, {'date': '11/02', 'link': 'https://www.ptt.cc//bbs/Food/M.1667364417.A.00E.html', 'title': '[轉讓] 11/24澀Sur 2位 交換其他天假日'}, {'date': '11/02', 'link': 'https://www.ptt.cc//bbs/Food/M.1667368892.A.3C0.html', 'title': '[食記] 苗栗 圓聚鼎小籠包'}, {'date': '11/02', 'link': 'https://www.ptt.cc//bbs/Food/M.1667369307.A.801.html', 'title': '[食記] 台南歸仁 歸仁雞蛋糕 '}, {'date': '11/02', 'link': 'https://www.ptt.cc//bbs/Food/M.1667369563.A.1E0.html', 'title': '[食記] 高雄三民區 41EARLYBAR明誠店 早午餐土司'}, {'date': '11/02', 'link': 'https://www.ptt.cc//bbs/Food/M.1667369710.A.16E.html', 'title': '[食記] 新店 小碧潭站 老中央餅坊 央北燒餅'}, {'date': '11/02', 'link': 'https://www.ptt.cc//bbs/Food/M.1667369747.A.32D.html', 'title': '[食記] 台南歸仁 關廟阿美魯麵'}, {'date': '12/16', 'link': 'https://www.ptt.cc//bbs/Food/M.1355673582.A.5F7.html', 'title': '[公告] Food板 板規 V3.91'}, {'date': ' 9/28', 'link': 'https://www.ptt.cc//bbs/Food/M.1190944426.A.E6C.html', 'title': '[公告] 發文請在標題加上地區及提供地址電話。^^'}, {'date': '10/01', 'link': 'https://www.ptt.cc//bbs/Food/M.1128132666.A.0FD.html', 'title': '[公告] 文章被刪除者請洽精華區的資源回收桶'}, {'date': ' 6/04', 'link': 'https://www.ptt.cc//bbs/Food/M.1496532469.A.C36.html', 'title': '[公告] 新增板規22：發文禁附延伸閱讀連結'}]\n"
     ]
    }
   ],
   "source": [
    "#將資料轉為dict \n",
    "fooddata = []\n",
    "for data in datas:\n",
    "    date = data.find('div', class_='date').text\n",
    "    web = \"https://www.ptt.cc/\" + data.a.get(\"href\")\n",
    "    title = data.a.text\n",
    "    fooddata.append(\n",
    "        {\n",
    "            \"date\": date,\n",
    "            \"link\": web,\n",
    "            \"title\":title\n",
    "        })\n",
    "print(fooddata)"
   ]
  },
  {
   "cell_type": "code",
   "execution_count": 130,
   "id": "e8b08401",
   "metadata": {},
   "outputs": [],
   "source": [
    "# 將dict --> json檔&下載\n",
    "with open('food.json', 'w', encoding='utf-8') as file:\n",
    "    json.dump(dict, file, ensure_ascii=False)  \n"
   ]
  },
  {
   "cell_type": "code",
   "execution_count": 131,
   "id": "356d0356",
   "metadata": {},
   "outputs": [
    {
     "data": {
      "text/plain": [
       "dict"
      ]
     },
     "execution_count": 131,
     "metadata": {},
     "output_type": "execute_result"
    }
   ],
   "source": [
    "#打開json檔 ＆確認資料型態\n",
    "x = open('food.json',encoding=\"utf8\")\n",
    "data = json.load(x)\n",
    "type(data)"
   ]
  },
  {
   "cell_type": "code",
   "execution_count": 132,
   "id": "7181c253",
   "metadata": {},
   "outputs": [
    {
     "data": {
      "text/plain": [
       "dict_items([('0', {'date': '11/01', 'link': 'https://www.ptt.cc//bbs/Food/M.1667303082.A.2F0.html', 'title': '[廣宣] 竹北 添好運 ~連續12年米其林1星<入會禮>'}), ('1', {'date': '11/01', 'link': 'https://www.ptt.cc//bbs/Food/M.1667305647.A.6A5.html', 'title': '[食記] 桃園 成真咖啡．彩虹飯、舒芙蕾推薦!'}), ('2', {'date': '11/01', 'link': 'https://www.ptt.cc//bbs/Food/M.1667308772.A.9CC.html', 'title': '[食記] 台南 樑記正老店牛肉湯'}), ('3', {'date': '11/01', 'link': 'https://www.ptt.cc//bbs/Food/M.1667310903.A.14D.html', 'title': '[食記] 嘉義 黃毛丫頭 東山鴨頭'}), ('4', {'date': '11/01', 'link': 'https://www.ptt.cc//bbs/Food/M.1667316718.A.E4E.html', 'title': '[食記] 新北 野營咖哩'}), ('5', {'date': '11/02', 'link': 'https://www.ptt.cc//bbs/Food/M.1667319197.A.097.html', 'title': '[食記] 台北 默爾誠品信義～看得到101的景觀餐廳'}), ('6', {'date': '11/02', 'link': 'https://www.ptt.cc//bbs/Food/M.1667323347.A.513.html', 'title': '[食記] 台北 士林 一家食堂'}), ('7', {'date': '11/02', 'link': 'https://www.ptt.cc//bbs/Food/M.1667330020.A.603.html', 'title': '[食記]胖福手作早午餐'}), ('8', {'date': '11/02', 'link': 'https://www.ptt.cc//bbs/Food/M.1667355631.A.C7F.html', 'title': '[食記] 新北八里 美好時光 預約制咖啡廳'}), ('9', {'date': '11/02', 'link': 'https://www.ptt.cc//bbs/Food/M.1667359201.A.38C.html', 'title': '[食記] 台北 欣葉日本料理健康店 秋季美食全品項'}), ('10', {'date': '11/02', 'link': 'https://www.ptt.cc//bbs/Food/M.1667364043.A.0D4.html', 'title': '[食記] 嘉義.中埔-頂六江家火雞肉飯'}), ('11', {'date': '11/02', 'link': 'https://www.ptt.cc//bbs/Food/M.1667364417.A.00E.html', 'title': '[轉讓] 11/24澀Sur 2位 交換其他天假日'}), ('12', {'date': '11/02', 'link': 'https://www.ptt.cc//bbs/Food/M.1667368892.A.3C0.html', 'title': '[食記] 苗栗 圓聚鼎小籠包'}), ('13', {'date': '11/02', 'link': 'https://www.ptt.cc//bbs/Food/M.1667369307.A.801.html', 'title': '[食記] 台南歸仁 歸仁雞蛋糕 '}), ('14', {'date': '11/02', 'link': 'https://www.ptt.cc//bbs/Food/M.1667369563.A.1E0.html', 'title': '[食記] 高雄三民區 41EARLYBAR明誠店 早午餐土司'}), ('15', {'date': '11/02', 'link': 'https://www.ptt.cc//bbs/Food/M.1667369710.A.16E.html', 'title': '[食記] 新店 小碧潭站 老中央餅坊 央北燒餅'}), ('16', {'date': '11/02', 'link': 'https://www.ptt.cc//bbs/Food/M.1667369747.A.32D.html', 'title': '[食記] 台南歸仁 關廟阿美魯麵'}), ('17', {'date': '12/16', 'link': 'https://www.ptt.cc//bbs/Food/M.1355673582.A.5F7.html', 'title': '[公告] Food板 板規 V3.91'}), ('18', {'date': ' 9/28', 'link': 'https://www.ptt.cc//bbs/Food/M.1190944426.A.E6C.html', 'title': '[公告] 發文請在標題加上地區及提供地址電話。^^'}), ('19', {'date': '10/01', 'link': 'https://www.ptt.cc//bbs/Food/M.1128132666.A.0FD.html', 'title': '[公告] 文章被刪除者請洽精華區的資源回收桶'}), ('20', {'date': ' 6/04', 'link': 'https://www.ptt.cc//bbs/Food/M.1496532469.A.C36.html', 'title': '[公告] 新增板規22：發文禁附延伸閱讀連結'})])"
      ]
     },
     "execution_count": 132,
     "metadata": {},
     "output_type": "execute_result"
    }
   ],
   "source": [
    "#查看資料內容\n",
    "data.items()"
   ]
  },
  {
   "cell_type": "code",
   "execution_count": null,
   "id": "15711907",
   "metadata": {},
   "outputs": [],
   "source": []
  }
 ],
 "metadata": {
  "kernelspec": {
   "display_name": "Python 3 (ipykernel)",
   "language": "python",
   "name": "python3"
  },
  "language_info": {
   "codemirror_mode": {
    "name": "ipython",
    "version": 3
   },
   "file_extension": ".py",
   "mimetype": "text/x-python",
   "name": "python",
   "nbconvert_exporter": "python",
   "pygments_lexer": "ipython3",
   "version": "3.9.12"
  }
 },
 "nbformat": 4,
 "nbformat_minor": 5
}
