{
 "cells": [
  {
   "cell_type": "code",
   "execution_count": 13,
   "id": "81fe489a",
   "metadata": {},
   "outputs": [
    {
     "data": {
      "text/html": [
       "<div>\n",
       "<style scoped>\n",
       "    .dataframe tbody tr th:only-of-type {\n",
       "        vertical-align: middle;\n",
       "    }\n",
       "\n",
       "    .dataframe tbody tr th {\n",
       "        vertical-align: top;\n",
       "    }\n",
       "\n",
       "    .dataframe thead th {\n",
       "        text-align: right;\n",
       "    }\n",
       "</style>\n",
       "<table border=\"1\" class=\"dataframe\">\n",
       "  <thead>\n",
       "    <tr style=\"text-align: right;\">\n",
       "      <th></th>\n",
       "      <th>Name</th>\n",
       "      <th>Town</th>\n",
       "      <th>Description</th>\n",
       "    </tr>\n",
       "  </thead>\n",
       "  <tbody>\n",
       "    <tr>\n",
       "      <th>0</th>\n",
       "      <td>桃園火車站前商圈</td>\n",
       "      <td>桃園區</td>\n",
       "      <td>從銅板小吃到品牌名店，琳瑯滿目的美食就要躁動你的味蕾，接著以統領百貨為中心瘋狂採買，用新台幣...</td>\n",
       "    </tr>\n",
       "    <tr>\n",
       "      <th>1</th>\n",
       "      <td>桃園忠烈祠暨神社文化園區</td>\n",
       "      <td>桃園區</td>\n",
       "      <td>請一同參與這場全台獨存的日本神社上演的穿越劇：沿著參道，緩步行經鳥居、手水舍直至本殿，典雅肅...</td>\n",
       "    </tr>\n",
       "    <tr>\n",
       "      <th>2</th>\n",
       "      <td>景福宮</td>\n",
       "      <td>桃園區</td>\n",
       "      <td>歷經歲月洗鍊的百年宮廟是地方上的信仰中心，每年開漳聖王聖誕、祈福建醮，全城鑼鼓喧闐，猶如一場...</td>\n",
       "    </tr>\n",
       "    <tr>\n",
       "      <th>3</th>\n",
       "      <td>奧爾森林學堂</td>\n",
       "      <td>桃園區</td>\n",
       "      <td>咻！坐上長長的溜滑梯，化身小飛俠乘風飛翔，好涼快又好開心，接著去空中樹屋拜訪松鼠先生、貓頭鷹...</td>\n",
       "    </tr>\n",
       "    <tr>\n",
       "      <th>4</th>\n",
       "      <td>角板山行館</td>\n",
       "      <td>復興區</td>\n",
       "      <td>不管是帶有神秘色彩的戰備隧道或是記錄蔣家日常的行館，都令人充滿十足想像，凜冬時節，園中櫻梅盛...</td>\n",
       "    </tr>\n",
       "  </tbody>\n",
       "</table>\n",
       "</div>"
      ],
      "text/plain": [
       "           Name Town                                        Description\n",
       "0      桃園火車站前商圈  桃園區  從銅板小吃到品牌名店，琳瑯滿目的美食就要躁動你的味蕾，接著以統領百貨為中心瘋狂採買，用新台幣...\n",
       "1  桃園忠烈祠暨神社文化園區  桃園區  請一同參與這場全台獨存的日本神社上演的穿越劇：沿著參道，緩步行經鳥居、手水舍直至本殿，典雅肅...\n",
       "2           景福宮  桃園區  歷經歲月洗鍊的百年宮廟是地方上的信仰中心，每年開漳聖王聖誕、祈福建醮，全城鑼鼓喧闐，猶如一場...\n",
       "3        奧爾森林學堂  桃園區  咻！坐上長長的溜滑梯，化身小飛俠乘風飛翔，好涼快又好開心，接著去空中樹屋拜訪松鼠先生、貓頭鷹...\n",
       "4         角板山行館  復興區  不管是帶有神秘色彩的戰備隧道或是記錄蔣家日常的行館，都令人充滿十足想像，凜冬時節，園中櫻梅盛..."
      ]
     },
     "execution_count": 13,
     "metadata": {},
     "output_type": "execute_result"
    }
   ],
   "source": [
    "import jieba\n",
    "import jieba.analyse\n",
    "import pandas as pd\n",
    "from collections import Counter\n",
    "orgdata = pd.read_csv(\"Spot3.csv\")\n",
    "orgdata.head()"
   ]
  },
  {
   "cell_type": "code",
   "execution_count": 14,
   "id": "f0f2bafb",
   "metadata": {},
   "outputs": [
    {
     "name": "stdout",
     "output_type": "stream",
     "text": [
      "我/是/臺灣/師範大學/科技系/113級/李招蓁\n"
     ]
    }
   ],
   "source": [
    "documents = ['我是臺灣師範大學科技系113級李招蓁']#一段字串\n",
    "# 精確模式\n",
    "for sentence in documents:\n",
    "    seg_list = jieba.cut(sentence)#用jieba做cut斷詞\n",
    "    print('/'.join(seg_list))#印出來的內容用斜線隔開"
   ]
  },
  {
   "cell_type": "code",
   "execution_count": 15,
   "id": "7b6403d7",
   "metadata": {},
   "outputs": [
    {
     "name": "stdout",
     "output_type": "stream",
     "text": [
      "我/是/臺灣/師範大學/科技系/113級/李招蓁\n"
     ]
    }
   ],
   "source": [
    "#載入自己建立斷詞文本\n",
    "jieba.load_userdict('./userdict.txt')\n",
    "\n",
    "for sentence in documents:\n",
    "    seg_list = jieba.cut(sentence)\n",
    "    print('/'.join(seg_list))"
   ]
  },
  {
   "cell_type": "code",
   "execution_count": 16,
   "id": "b8fb3125",
   "metadata": {},
   "outputs": [
    {
     "data": {
      "text/html": [
       "<div>\n",
       "<style scoped>\n",
       "    .dataframe tbody tr th:only-of-type {\n",
       "        vertical-align: middle;\n",
       "    }\n",
       "\n",
       "    .dataframe tbody tr th {\n",
       "        vertical-align: top;\n",
       "    }\n",
       "\n",
       "    .dataframe thead th {\n",
       "        text-align: right;\n",
       "    }\n",
       "</style>\n",
       "<table border=\"1\" class=\"dataframe\">\n",
       "  <thead>\n",
       "    <tr style=\"text-align: right;\">\n",
       "      <th></th>\n",
       "      <th>Name</th>\n",
       "      <th>Town</th>\n",
       "      <th>Description</th>\n",
       "      <th>seg</th>\n",
       "    </tr>\n",
       "  </thead>\n",
       "  <tbody>\n",
       "    <tr>\n",
       "      <th>0</th>\n",
       "      <td>桃園火車站前商圈</td>\n",
       "      <td>桃園區</td>\n",
       "      <td>從銅板小吃到品牌名店，琳瑯滿目的美食就要躁動你的味蕾，接著以統領百貨為中心瘋狂採買，用新台幣...</td>\n",
       "      <td></td>\n",
       "    </tr>\n",
       "    <tr>\n",
       "      <th>1</th>\n",
       "      <td>桃園忠烈祠暨神社文化園區</td>\n",
       "      <td>桃園區</td>\n",
       "      <td>請一同參與這場全台獨存的日本神社上演的穿越劇：沿著參道，緩步行經鳥居、手水舍直至本殿，典雅肅...</td>\n",
       "      <td></td>\n",
       "    </tr>\n",
       "    <tr>\n",
       "      <th>2</th>\n",
       "      <td>景福宮</td>\n",
       "      <td>桃園區</td>\n",
       "      <td>歷經歲月洗鍊的百年宮廟是地方上的信仰中心，每年開漳聖王聖誕、祈福建醮，全城鑼鼓喧闐，猶如一場...</td>\n",
       "      <td></td>\n",
       "    </tr>\n",
       "    <tr>\n",
       "      <th>3</th>\n",
       "      <td>奧爾森林學堂</td>\n",
       "      <td>桃園區</td>\n",
       "      <td>咻！坐上長長的溜滑梯，化身小飛俠乘風飛翔，好涼快又好開心，接著去空中樹屋拜訪松鼠先生、貓頭鷹...</td>\n",
       "      <td></td>\n",
       "    </tr>\n",
       "    <tr>\n",
       "      <th>4</th>\n",
       "      <td>角板山行館</td>\n",
       "      <td>復興區</td>\n",
       "      <td>不管是帶有神秘色彩的戰備隧道或是記錄蔣家日常的行館，都令人充滿十足想像，凜冬時節，園中櫻梅盛...</td>\n",
       "      <td></td>\n",
       "    </tr>\n",
       "  </tbody>\n",
       "</table>\n",
       "</div>"
      ],
      "text/plain": [
       "           Name Town                                        Description seg\n",
       "0      桃園火車站前商圈  桃園區  從銅板小吃到品牌名店，琳瑯滿目的美食就要躁動你的味蕾，接著以統領百貨為中心瘋狂採買，用新台幣...    \n",
       "1  桃園忠烈祠暨神社文化園區  桃園區  請一同參與這場全台獨存的日本神社上演的穿越劇：沿著參道，緩步行經鳥居、手水舍直至本殿，典雅肅...    \n",
       "2           景福宮  桃園區  歷經歲月洗鍊的百年宮廟是地方上的信仰中心，每年開漳聖王聖誕、祈福建醮，全城鑼鼓喧闐，猶如一場...    \n",
       "3        奧爾森林學堂  桃園區  咻！坐上長長的溜滑梯，化身小飛俠乘風飛翔，好涼快又好開心，接著去空中樹屋拜訪松鼠先生、貓頭鷹...    \n",
       "4         角板山行館  復興區  不管是帶有神秘色彩的戰備隧道或是記錄蔣家日常的行館，都令人充滿十足想像，凜冬時節，園中櫻梅盛...    "
      ]
     },
     "execution_count": 16,
     "metadata": {},
     "output_type": "execute_result"
    }
   ],
   "source": [
    "#新增一個新欄位 來放斷詞\n",
    "orgdata['seg'] = \"\"\n",
    "orgdata.head()"
   ]
  },
  {
   "cell_type": "code",
   "execution_count": 17,
   "id": "aaae1764",
   "metadata": {},
   "outputs": [],
   "source": [
    "jieba.analyse.set_stop_words('stopwords.txt')\n",
    "index = 0\n",
    "for documents in orgdata['Description']:\n",
    "    seg_list = jieba.analyse.extract_tags(documents, 100)\n",
    "    #seg_list = jieba.lcut(documents)\n",
    "    orgdata['seg'].iloc[index] = seg_list\n",
    "    index += 1"
   ]
  },
  {
   "cell_type": "code",
   "execution_count": 18,
   "id": "3647c647",
   "metadata": {},
   "outputs": [
    {
     "name": "stdout",
     "output_type": "stream",
     "text": [
      "楊\n",
      "梅\n",
      "故\n",
      "事\n",
      "園\n",
      "區\n",
      "前\n",
      "身\n",
      "為\n",
      "「\n",
      "楊\n",
      "梅\n",
      "國\n",
      "中\n",
      "校\n",
      "長\n",
      "及\n",
      "教\n",
      "職\n",
      "員\n",
      "宿\n",
      "舍\n",
      "群\n",
      "」\n",
      "，\n",
      "園\n",
      "區\n",
      "內\n",
      "共\n",
      "有\n",
      "3\n",
      "棟\n",
      "建\n",
      "築\n",
      "，\n",
      "分\n",
      "別\n",
      "傳\n",
      "遞\n",
      "民\n",
      "間\n",
      "興\n",
      "學\n",
      "、\n",
      "自\n",
      "力\n",
      "建\n",
      "校\n",
      "、\n",
      "客\n",
      "家\n",
      "尊\n",
      "崇\n",
      "學\n",
      "風\n",
      "的\n",
      "人\n",
      "文\n",
      "精\n",
      "神\n",
      "。\n"
     ]
    }
   ],
   "source": [
    "#orgdata['seg']\n",
    "jieba.load_userdict('./userdict.txt')\n",
    "\n",
    "for sentence in documents:\n",
    "    seg_list = jieba.cut(sentence)\n",
    "    print('/'.join(seg_list))"
   ]
  },
  {
   "cell_type": "code",
   "execution_count": 19,
   "id": "fa088cc9",
   "metadata": {},
   "outputs": [
    {
     "data": {
      "text/plain": [
       "0      [銅板, 琳瑯, 躁動, 接著, 以統, 領百貨, 瘋狂, 採買, 台幣, 時尚, 下架, ...\n",
       "1      [參與, 這場, 獨存, 沿著, 參道, 經鳥, 手水舍, 本殿, 肅穆, 唐風, 建築, ...\n",
       "2      [歷經, 宮廟, 開漳聖, 王聖誕, 建醮, 鑼鼓, 喧闐, 猶如, 一場, 嘉年華, 場面...\n",
       "3      [溜滑梯, 小飛俠, 乘風, 飛翔, 好涼, 開心, 接著, 樹屋, 拜訪, 貓頭鷹, 開一...\n",
       "4      [戰備, 記錄, 蔣家, 行館, 充滿, 凜冬, 時節, 園中, 櫻梅, 盛開, 更為, 驚...\n",
       "                             ...                        \n",
       "255    [人聲, 佳安市場, 而現, 將繼續, 結合, 藝術, 零塑, 有機, 生態, 樣貌, 這個...\n",
       "256    [乙未, 哭牆, 之環, 開門, 將公園, 歷史, 意涵, 走讀, 義民為, 鄉土, 戰役,...\n",
       "257    [異域, 故事, 這個, 鮮為, 人知, 部隊, 遙遠, 莽荒, 叢林裡, 30, 餘年, ...\n",
       "258    [之際, 落羽松, 落羽, 松葉, 金黃, 轉為, 緋紅時, 許多遊, 客到, 此體驗, 濃...\n",
       "259    [園區, 人文精神, 楊梅, 楊梅國, 職員, 建築, 分別, 遞民間, 興學, 學風, 自...\n",
       "Name: seg, Length: 260, dtype: object"
      ]
     },
     "execution_count": 19,
     "metadata": {},
     "output_type": "execute_result"
    }
   ],
   "source": [
    "orgdata['seg']"
   ]
  },
  {
   "cell_type": "code",
   "execution_count": 20,
   "id": "a409ad9d",
   "metadata": {},
   "outputs": [],
   "source": [
    "orgdata.to_csv(\"Spot4.csv\", index=False)"
   ]
  },
  {
   "cell_type": "code",
   "execution_count": null,
   "id": "0fd4aee5",
   "metadata": {},
   "outputs": [],
   "source": []
  }
 ],
 "metadata": {
  "kernelspec": {
   "display_name": "Python 3 (ipykernel)",
   "language": "python",
   "name": "python3"
  },
  "language_info": {
   "codemirror_mode": {
    "name": "ipython",
    "version": 3
   },
   "file_extension": ".py",
   "mimetype": "text/x-python",
   "name": "python",
   "nbconvert_exporter": "python",
   "pygments_lexer": "ipython3",
   "version": "3.9.12"
  }
 },
 "nbformat": 4,
 "nbformat_minor": 5
}
