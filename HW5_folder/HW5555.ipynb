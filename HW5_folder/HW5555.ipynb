{
 "cells": [
  {
   "cell_type": "code",
   "execution_count": 1,
   "id": "de4101fe",
   "metadata": {},
   "outputs": [
    {
     "data": {
      "text/html": [
       "<div>\n",
       "<style scoped>\n",
       "    .dataframe tbody tr th:only-of-type {\n",
       "        vertical-align: middle;\n",
       "    }\n",
       "\n",
       "    .dataframe tbody tr th {\n",
       "        vertical-align: top;\n",
       "    }\n",
       "\n",
       "    .dataframe thead th {\n",
       "        text-align: right;\n",
       "    }\n",
       "</style>\n",
       "<table border=\"1\" class=\"dataframe\">\n",
       "  <thead>\n",
       "    <tr style=\"text-align: right;\">\n",
       "      <th></th>\n",
       "      <th>Name</th>\n",
       "      <th>Town</th>\n",
       "      <th>Description</th>\n",
       "      <th>seg</th>\n",
       "    </tr>\n",
       "  </thead>\n",
       "  <tbody>\n",
       "    <tr>\n",
       "      <th>0</th>\n",
       "      <td>桃園火車站前商圈</td>\n",
       "      <td>桃園區</td>\n",
       "      <td>從銅板小吃到品牌名店，琳瑯滿目的美食就要躁動你的味蕾，接著以統領百貨為中心瘋狂採買，用新台幣...</td>\n",
       "      <td>['銅板', '琳瑯', '躁動', '接著', '以統', '領百貨', '瘋狂', '採...</td>\n",
       "    </tr>\n",
       "    <tr>\n",
       "      <th>1</th>\n",
       "      <td>桃園忠烈祠暨神社文化園區</td>\n",
       "      <td>桃園區</td>\n",
       "      <td>請一同參與這場全台獨存的日本神社上演的穿越劇：沿著參道，緩步行經鳥居、手水舍直至本殿，典雅肅...</td>\n",
       "      <td>['參與', '這場', '獨存', '沿著', '參道', '經鳥', '手水舍', '本...</td>\n",
       "    </tr>\n",
       "    <tr>\n",
       "      <th>2</th>\n",
       "      <td>景福宮</td>\n",
       "      <td>桃園區</td>\n",
       "      <td>歷經歲月洗鍊的百年宮廟是地方上的信仰中心，每年開漳聖王聖誕、祈福建醮，全城鑼鼓喧闐，猶如一場...</td>\n",
       "      <td>['歷經', '宮廟', '開漳聖', '王聖誕', '建醮', '鑼鼓', '喧闐', '...</td>\n",
       "    </tr>\n",
       "    <tr>\n",
       "      <th>3</th>\n",
       "      <td>奧爾森林學堂</td>\n",
       "      <td>桃園區</td>\n",
       "      <td>咻！坐上長長的溜滑梯，化身小飛俠乘風飛翔，好涼快又好開心，接著去空中樹屋拜訪松鼠先生、貓頭鷹...</td>\n",
       "      <td>['溜滑梯', '小飛俠', '乘風', '飛翔', '好涼', '開心', '接著', '...</td>\n",
       "    </tr>\n",
       "    <tr>\n",
       "      <th>4</th>\n",
       "      <td>角板山行館</td>\n",
       "      <td>復興區</td>\n",
       "      <td>不管是帶有神秘色彩的戰備隧道或是記錄蔣家日常的行館，都令人充滿十足想像，凜冬時節，園中櫻梅盛...</td>\n",
       "      <td>['戰備', '記錄', '蔣家', '行館', '充滿', '凜冬', '時節', '園中...</td>\n",
       "    </tr>\n",
       "  </tbody>\n",
       "</table>\n",
       "</div>"
      ],
      "text/plain": [
       "           Name Town                                        Description  \\\n",
       "0      桃園火車站前商圈  桃園區  從銅板小吃到品牌名店，琳瑯滿目的美食就要躁動你的味蕾，接著以統領百貨為中心瘋狂採買，用新台幣...   \n",
       "1  桃園忠烈祠暨神社文化園區  桃園區  請一同參與這場全台獨存的日本神社上演的穿越劇：沿著參道，緩步行經鳥居、手水舍直至本殿，典雅肅...   \n",
       "2           景福宮  桃園區  歷經歲月洗鍊的百年宮廟是地方上的信仰中心，每年開漳聖王聖誕、祈福建醮，全城鑼鼓喧闐，猶如一場...   \n",
       "3        奧爾森林學堂  桃園區  咻！坐上長長的溜滑梯，化身小飛俠乘風飛翔，好涼快又好開心，接著去空中樹屋拜訪松鼠先生、貓頭鷹...   \n",
       "4         角板山行館  復興區  不管是帶有神秘色彩的戰備隧道或是記錄蔣家日常的行館，都令人充滿十足想像，凜冬時節，園中櫻梅盛...   \n",
       "\n",
       "                                                 seg  \n",
       "0  ['銅板', '琳瑯', '躁動', '接著', '以統', '領百貨', '瘋狂', '採...  \n",
       "1  ['參與', '這場', '獨存', '沿著', '參道', '經鳥', '手水舍', '本...  \n",
       "2  ['歷經', '宮廟', '開漳聖', '王聖誕', '建醮', '鑼鼓', '喧闐', '...  \n",
       "3  ['溜滑梯', '小飛俠', '乘風', '飛翔', '好涼', '開心', '接著', '...  \n",
       "4  ['戰備', '記錄', '蔣家', '行館', '充滿', '凜冬', '時節', '園中...  "
      ]
     },
     "execution_count": 1,
     "metadata": {},
     "output_type": "execute_result"
    }
   ],
   "source": [
    "import pandas as pd\n",
    "from collections import Counter\n",
    "orgdata = pd.read_csv(\"Spot4.csv\")\n",
    "orgdata.head()"
   ]
  },
  {
   "cell_type": "code",
   "execution_count": 2,
   "id": "5770878d",
   "metadata": {},
   "outputs": [],
   "source": [
    "subdata = orgdata[['Name', 'Town', 'seg']]"
   ]
  },
  {
   "cell_type": "code",
   "execution_count": null,
   "id": "c16598cc",
   "metadata": {},
   "outputs": [],
   "source": [
    "output_series = subdata.groupby(['Town'])['seg'].apply(lambda x: ','.join(x)).reset_index()"
   ]
  },
  {
   "cell_type": "code",
   "execution_count": null,
   "id": "ba4e8abe",
   "metadata": {},
   "outputs": [],
   "source": [
    "output_series['seg'] = output_series['seg'].str.replace(\"', '\", \" \")\n",
    "output_series"
   ]
  },
  {
   "cell_type": "code",
   "execution_count": null,
   "id": "996f79e3",
   "metadata": {},
   "outputs": [],
   "source": [
    "from sklearn.feature_extraction.text import CountVectorizer\n",
    "\n",
    "docs = output_series['seg'].tolist()\n",
    "vec = CountVectorizer()\n",
    "X = vec.fit_transform(docs)\n",
    "df = pd.DataFrame(X.toarray(), columns=vec.get_feature_names())\n",
    "df"
   ]
  },
  {
   "cell_type": "code",
   "execution_count": null,
   "id": "8227b879",
   "metadata": {},
   "outputs": [],
   "source": [
    "coocc = df.T.dot(df)\n",
    "coocc"
   ]
  },
  {
   "cell_type": "code",
   "execution_count": null,
   "id": "cb5ac0cf",
   "metadata": {},
   "outputs": [],
   "source": [
    "import plotly.express as px\n",
    "px.imshow(coocc)"
   ]
  },
  {
   "cell_type": "code",
   "execution_count": null,
   "id": "eca654a9",
   "metadata": {},
   "outputs": [],
   "source": [
    "result = coocc.values.flatten()"
   ]
  },
  {
   "cell_type": "code",
   "execution_count": null,
   "id": "3147bcf3",
   "metadata": {},
   "outputs": [],
   "source": [
    "fig = px.histogram(result)\n",
    "fig.show()"
   ]
  },
  {
   "cell_type": "code",
   "execution_count": null,
   "id": "add61977",
   "metadata": {},
   "outputs": [],
   "source": [
    "import numpy as np\n",
    "\n",
    "filter_num = 50\n",
    "getid = coocc.index\n",
    "important = pd.DataFrame(columns = getid).T\n",
    "important['relation'] = \"\"\n",
    "subcoocc = coocc\n",
    "dropid = []\n",
    "\n",
    "for i in range(len(coocc)):\n",
    "    result = coocc[coocc.iloc[i] > filter_num].index.tolist()    \n",
    "    if(len(result) > 0):\n",
    "        important['relation'].loc[getid[i]] = coocc[coocc.iloc[i] > filter_num].index.tolist()\n",
    "    else:\n",
    "        dropid.append(i)\n",
    "        important = important.drop([getid[i]])\n",
    "        subcoocc = subcoocc.drop([getid[i]])       "
   ]
  },
  {
   "cell_type": "code",
   "execution_count": null,
   "id": "f9ea6762",
   "metadata": {},
   "outputs": [],
   "source": [
    "subcoocc"
   ]
  },
  {
   "cell_type": "code",
   "execution_count": null,
   "id": "7702437c",
   "metadata": {},
   "outputs": [],
   "source": [
    "subcoocc.columns[dropid]"
   ]
  },
  {
   "cell_type": "code",
   "execution_count": null,
   "id": "28a784f2",
   "metadata": {},
   "outputs": [],
   "source": [
    "subcoocc.drop(subcoocc.columns[dropid], axis=1, inplace=True)\n",
    "subcoocc"
   ]
  }
 ],
 "metadata": {
  "kernelspec": {
   "display_name": "Python 3 (ipykernel)",
   "language": "python",
   "name": "python3"
  },
  "language_info": {
   "codemirror_mode": {
    "name": "ipython",
    "version": 3
   },
   "file_extension": ".py",
   "mimetype": "text/x-python",
   "name": "python",
   "nbconvert_exporter": "python",
   "pygments_lexer": "ipython3",
   "version": "3.9.12"
  }
 },
 "nbformat": 4,
 "nbformat_minor": 5
}
