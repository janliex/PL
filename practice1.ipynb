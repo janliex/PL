{
 "cells": [
  {
   "cell_type": "code",
   "execution_count": 7,
   "id": "dc62968f",
   "metadata": {},
   "outputs": [
    {
     "name": "stdout",
     "output_type": "stream",
     "text": [
      "<class 'int'>\n",
      "<class 'float'>\n",
      "償還金額:115612\n"
     ]
    }
   ],
   "source": [
    "#例題 int&float\n",
    "# **平方\n",
    "money = 63852\n",
    "year = 4\n",
    "interest = 0.16\n",
    "total = int( money * (1+interest) ** year )\n",
    "print(type(year))\n",
    "print(type(interest))\n",
    "print(\"償還金額:\" + str(total))"
   ]
  },
  {
   "cell_type": "code",
   "execution_count": 5,
   "id": "a7e0bbd4",
   "metadata": {},
   "outputs": [
    {
     "name": "stdout",
     "output_type": "stream",
     "text": [
      "毒品危害防制條例第10條：施用第一級毒品者，處6月以上5年以下有期徒刑。施用第二級毒品者，處3年以下有期徒刑。\n"
     ]
    }
   ],
   "source": [
    "#例題 str\n",
    "str1 = (\"毒品危害防制條例第10條：施用第一級毒品者，處6月以上5年以下有期徒刑。施用第二級毒品者，處3年以下有期徒刑。\")\n",
    "print(str1)\n"
   ]
  },
  {
   "cell_type": "code",
   "execution_count": 6,
   "id": "077af7aa",
   "metadata": {},
   "outputs": [
    {
     "name": "stdout",
     "output_type": "stream",
     "text": [
      "True\n",
      "True\n",
      "False\n",
      "True\n",
      "[True, True, False, True]\n"
     ]
    }
   ],
   "source": [
    "#例題 bool\n",
    "String_list = [\"有酒駕\",\"有酒駕\",\"無酒駕\",\"有酒駕\"]#first\n",
    "for test in String_list:\n",
    "    if test == \"有酒駕\":\n",
    "        print(\"True\")\n",
    "    else: \n",
    "        print(\"False\")\n",
    "#second \n",
    "boolean_list = [test == \"有酒駕\" for test in String_list]\n",
    "print(boolean_list)"
   ]
  },
  {
   "cell_type": "code",
   "execution_count": 8,
   "id": "988dd642",
   "metadata": {},
   "outputs": [
    {
     "name": "stdout",
     "output_type": "stream",
     "text": [
      "被告:17981 原告:7706\n"
     ]
    }
   ],
   "source": [
    "#練習1\n",
    "money = 25688\n",
    "fault = int(25688 * 0.7)\n",
    "true = int(25688 * 0.3)\n",
    "print(\"被告:\"+str(fault),\"原告:\"+str(true))"
   ]
  },
  {
   "cell_type": "code",
   "execution_count": 9,
   "id": "e3b304d2",
   "metadata": {},
   "outputs": [
    {
     "name": "stdout",
     "output_type": "stream",
     "text": [
      "12608\n"
     ]
    }
   ],
   "source": [
    "#練習2\n",
    "money = 11805\n",
    "interest = 0.0005\n",
    "violate = 150+300\n",
    "total = money*(1+interest)**59+violate\n",
    "print(int(total))"
   ]
  },
  {
   "cell_type": "code",
   "execution_count": 10,
   "id": "73b61443",
   "metadata": {},
   "outputs": [
    {
     "name": "stdout",
     "output_type": "stream",
     "text": [
      "請輸入案件:被告闖紅燈\n",
      "被告賠100%\n"
     ]
    }
   ],
   "source": [
    "event=input(\"請輸入案件:\")\n",
    "if event == \"被告闖紅燈\":\n",
    "    print(\"被告賠100%\")\n",
    "elif event == \"原告闖紅燈\":\n",
    "    print(\"原告多被告少\")\n",
    "elif event == \"被告原告皆闖紅燈\":\n",
    "    print(\"原告50%被告50%\")\n",
    "else:\n",
    "    print(\"請填入有效訊息\")"
   ]
  },
  {
   "cell_type": "code",
   "execution_count": null,
   "id": "10958901",
   "metadata": {},
   "outputs": [],
   "source": []
  }
 ],
 "metadata": {
  "kernelspec": {
   "display_name": "Python 3 (ipykernel)",
   "language": "python",
   "name": "python3"
  },
  "language_info": {
   "codemirror_mode": {
    "name": "ipython",
    "version": 3
   },
   "file_extension": ".py",
   "mimetype": "text/x-python",
   "name": "python",
   "nbconvert_exporter": "python",
   "pygments_lexer": "ipython3",
   "version": "3.9.12"
  }
 },
 "nbformat": 4,
 "nbformat_minor": 5
}
