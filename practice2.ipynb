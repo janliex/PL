{
 "cells": [
  {
   "cell_type": "code",
   "execution_count": 1,
   "id": "37c99ac7",
   "metadata": {},
   "outputs": [
    {
     "name": "stdout",
     "output_type": "stream",
     "text": [
      "大學年級：\n",
      "['大一', '大二', '大三', '大四']\n"
     ]
    }
   ],
   "source": [
    "#list 有順序\n",
    "print(\"大學年級：\")\n",
    "grade = [\"大一\", \"大二\", \"大三\", \"大四\"]\n",
    "print(grade)"
   ]
  },
  {
   "cell_type": "code",
   "execution_count": 5,
   "id": "3b348669",
   "metadata": {},
   "outputs": [
    {
     "name": "stdout",
     "output_type": "stream",
     "text": [
      "最小年級：\n",
      "大一\n"
     ]
    }
   ],
   "source": [
    "#index索取元素\n",
    "#位階從零開始\n",
    "print(\"最小年級：\")\n",
    "grade = [\"大一\", \"大二\", \"大三\", \"大四\"]\n",
    "print(grade[0])"
   ]
  },
  {
   "cell_type": "code",
   "execution_count": 12,
   "id": "08e3002e",
   "metadata": {},
   "outputs": [
    {
     "name": "stdout",
     "output_type": "stream",
     "text": [
      "課表\n",
      "時間: 第一節 課程: 程式語言\n"
     ]
    }
   ],
   "source": [
    "#巢狀串列\n",
    "print(\"課表\")\n",
    "timetable = [[\"第一節\", \"程式語言\"],[\"第二節\", \"瑜珈\"],[\"第三節\", \"電腦網路與實作\"]]\n",
    "print(\"時間:\", timetable[0][0], \"課程:\", timetable[0][1])\n"
   ]
  },
  {
   "cell_type": "code",
   "execution_count": 17,
   "id": "7adc1e8f",
   "metadata": {},
   "outputs": [
    {
     "name": "stdout",
     "output_type": "stream",
     "text": [
      "大學年級：\n",
      "['大一', '大二', '大三', '大四']\n",
      "['大一', '大二']\n",
      "['大一', '大二']\n",
      "['大一', '大二', '大三', '大四']\n",
      "['大三', '大四']\n",
      "['大一', '大二', '大三', '大四']\n",
      "['大一', '大三']\n"
     ]
    }
   ],
   "source": [
    "print(\"大學年級：\")\n",
    "grade = [\"大一\", \"大二\", \"大三\", \"大四\"]\n",
    "#end會自動減1\n",
    "print(grade[0:4]) # 0123\n",
    "#取前n名\n",
    "print(grade[:2]) #01\n",
    "#取前面 不包括後n名\n",
    "print(grade[:-2]) #01\n",
    "#取串列n後面所有\n",
    "print(grade[0:]) #0123\n",
    "#取串列後n名\n",
    "print(grade[-2:]) #34\n",
    "#取所有\n",
    "print(grade[:]) #0123\n",
    "#start-end 每隔step\n",
    "print(grade[0:4:2]) #02"
   ]
  },
  {
   "cell_type": "code",
   "execution_count": null,
   "id": "70ed6173",
   "metadata": {},
   "outputs": [],
   "source": []
  }
 ],
 "metadata": {
  "kernelspec": {
   "display_name": "Python 3 (ipykernel)",
   "language": "python",
   "name": "python3"
  },
  "language_info": {
   "codemirror_mode": {
    "name": "ipython",
    "version": 3
   },
   "file_extension": ".py",
   "mimetype": "text/x-python",
   "name": "python",
   "nbconvert_exporter": "python",
   "pygments_lexer": "ipython3",
   "version": "3.9.12"
  }
 },
 "nbformat": 4,
 "nbformat_minor": 5
}
