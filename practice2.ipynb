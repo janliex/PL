{
 "cells": [
  {
   "cell_type": "code",
   "execution_count": 1,
   "id": "37c99ac7",
   "metadata": {},
   "outputs": [
    {
     "name": "stdout",
     "output_type": "stream",
     "text": [
      "大學年級：\n",
      "['大一', '大二', '大三', '大四']\n"
     ]
    }
   ],
   "source": [
    "#list 有順序\n",
    "print(\"大學年級：\")\n",
    "grade = [\"大一\", \"大二\", \"大三\", \"大四\"]\n",
    "print(grade)"
   ]
  },
  {
   "cell_type": "code",
   "execution_count": 5,
   "id": "9bf9a79f",
   "metadata": {},
   "outputs": [
    {
     "name": "stdout",
     "output_type": "stream",
     "text": [
      "最小年級：\n",
      "大一\n"
     ]
    }
   ],
   "source": [
    "#index索取元素\n",
    "#位階從零開始\n",
    "print(\"最小年級：\")\n",
    "grade = [\"大一\", \"大二\", \"大三\", \"大四\"]\n",
    "print(grade[0])"
   ]
  },
  {
   "cell_type": "code",
   "execution_count": 12,
   "id": "83e3ab73",
   "metadata": {},
   "outputs": [
    {
     "name": "stdout",
     "output_type": "stream",
     "text": [
      "課表\n",
      "時間: 第一節 課程: 程式語言\n"
     ]
    }
   ],
   "source": [
    "#巢狀串列\n",
    "print(\"課表\")\n",
    "timetable = [[\"第一節\", \"程式語言\"],[\"第二節\", \"瑜珈\"],[\"第三節\", \"電腦網路與實作\"]]\n",
    "print(\"時間:\", timetable[0][0], \"課程:\", timetable[0][1])\n"
   ]
  },
  {
   "cell_type": "code",
   "execution_count": 17,
   "id": "2eed5e61",
   "metadata": {},
   "outputs": [
    {
     "name": "stdout",
     "output_type": "stream",
     "text": [
      "大學年級：\n",
      "['大一', '大二', '大三', '大四']\n",
      "['大一', '大二']\n",
      "['大一', '大二']\n",
      "['大一', '大二', '大三', '大四']\n",
      "['大三', '大四']\n",
      "['大一', '大二', '大三', '大四']\n",
      "['大一', '大三']\n"
     ]
    }
   ],
   "source": [
    "print(\"大學年級：\")\n",
    "grade = [\"大一\", \"大二\", \"大三\", \"大四\"]\n",
    "#end會自動減1\n",
    "print(grade[0:4]) # 0123\n",
    "#取前n名\n",
    "print(grade[:2]) #01\n",
    "#取前面 不包括後n名\n",
    "print(grade[:-2]) #01\n",
    "#取串列n後面所有\n",
    "print(grade[0:]) #0123\n",
    "#取串列後n名\n",
    "print(grade[-2:]) #34\n",
    "#取所有\n",
    "print(grade[:]) #0123\n",
    "#start-end 每隔step\n",
    "print(grade[0:4:2]) #02"
   ]
  },
  {
   "cell_type": "code",
   "execution_count": 24,
   "id": "1c4616b6",
   "metadata": {},
   "outputs": [
    {
     "name": "stdout",
     "output_type": "stream",
     "text": [
      "大學年級：\n",
      "原串列: ['大一', '大二', '大三', '大四']\n",
      "新串列: ['大一', '大二', '大三', '碩一']\n",
      "['碩一', '碩二', '博一', '博二']\n",
      "[1, 2, 3, 4, 1, 2, 3, 4]\n"
     ]
    }
   ],
   "source": [
    "#修改list\n",
    "print(\"大學年級：\")\n",
    "grade = [\"大一\", \"大二\", \"大三\", \"大四\"]\n",
    "print(\"原串列:\",grade)\n",
    "grade[3] = \"碩一\" #修改內容\n",
    "print(\"新串列:\", grade)\n",
    "#list相加\n",
    "master = [\"碩一\", \"碩二\"]\n",
    "doctor = [\"博一\", \"博二\"]\n",
    "print(master + doctor)\n",
    "\n",
    "#相乘\n",
    "num = [1,2,3,4]\n",
    "print(num * 2)"
   ]
  },
  {
   "cell_type": "code",
   "execution_count": 38,
   "id": "a82ab917",
   "metadata": {},
   "outputs": [
    {
     "name": "stdout",
     "output_type": "stream",
     "text": [
      "[]\n",
      "['大一', '大二']\n",
      "['大一', '大二', '大三']\n",
      "['大一', '大二', '大三', '大四']\n"
     ]
    }
   ],
   "source": [
    "#新增list \n",
    "grade = list()\n",
    "print(grade)\n",
    "\n",
    "#.append\n",
    "grade.append(\"大一\")\n",
    "grade.append(\"大二\")\n",
    "print(grade)\n",
    "\n",
    "#.insert\n",
    "grade.insert(2,\"大三\")\n",
    "print(grade)\n",
    "\n",
    "#.extend\n",
    "#grade_extend = [\"大四\"]\n",
    "#grade.extend(grade_extend)\n",
    "a = [\"大四\"]\n",
    "grade.extend(a)\n",
    "\n",
    "print(grade)"
   ]
  },
  {
   "cell_type": "code",
   "execution_count": 45,
   "id": "47426e26",
   "metadata": {},
   "outputs": [
    {
     "name": "stdout",
     "output_type": "stream",
     "text": [
      "['大一', '大三', '大四']\n",
      "['大三', '大四']\n",
      "['大四']\n",
      "刪除的: 大三\n"
     ]
    }
   ],
   "source": [
    "#刪除list\n",
    "grade = [\"大一\", \"大二\", \"大三\", \"大四\"]\n",
    "\n",
    "#刪除del區段\n",
    "del grade[1:2]\n",
    "print(grade)\n",
    "\n",
    "#.remove 輸入元素刪除\n",
    "grade.remove(\"大一\")\n",
    "print(grade)\n",
    "\n",
    "#.pop可回傳刪除之元素\n",
    "x = grade.pop(0)\n",
    "print(grade)\n",
    "print(\"刪除的:\",x)"
   ]
  },
  {
   "cell_type": "code",
   "execution_count": 52,
   "id": "d3fb1ebe",
   "metadata": {},
   "outputs": [
    {
     "name": "stdout",
     "output_type": "stream",
     "text": [
      "['2022', '9', '22']\n",
      "2022-9-22\n",
      "['2022', '9', '22']\n",
      "是否為9月: True\n"
     ]
    }
   ],
   "source": [
    "#.split\n",
    "day = \"2022/9/22\"\n",
    "split_day = day.split(\"/\")\n",
    "print(split_day)\n",
    "\n",
    "#.join\n",
    "connect = \"-\"\n",
    "join_day = connect.join(split_day)\n",
    "print(join_day)\n",
    "\n",
    "split_day2 = join_day.split(\"-\")\n",
    "print(split_day2)\n",
    "\n",
    "print(\"是否為9月:\",\"9\"in split_day2)"
   ]
  },
  {
   "cell_type": "code",
   "execution_count": 65,
   "id": "0321f50b",
   "metadata": {},
   "outputs": [
    {
     "name": "stdout",
     "output_type": "stream",
     "text": [
      "['貝瑞塔手槍一隻', '史密斯手槍一隻', '9mm子彈26顆', '土造金屬子彈一顆', '半自動手槍一支', '0.45寸制式子彈一顆']\n",
      "['貝瑞塔手槍一隻', '史密斯手槍一隻', '9mm子彈26顆', '土造金屬子彈一顆', '半自動手槍一支', '0.45寸制式子彈一顆']\n"
     ]
    }
   ],
   "source": [
    "#練習\n",
    "give = \"貝瑞塔手槍一隻、史密斯手槍一隻、9mm子彈26顆、土造金屬子彈一顆、半自動手槍一支、0.45寸制式子彈一顆\"\n",
    "give_split = give.split(\"、\")\n",
    "print(give_split)\n",
    "del give_split[2:3]\n",
    "give_split.insert(2,\"9mm子彈26顆\")\n",
    "print(give_split)\n",
    "\n",
    "\n"
   ]
  },
  {
   "cell_type": "code",
   "execution_count": null,
   "id": "69f1e4b3",
   "metadata": {},
   "outputs": [],
   "source": []
  },
  {
   "cell_type": "code",
   "execution_count": null,
   "id": "388a2265",
   "metadata": {},
   "outputs": [],
   "source": []
  }
 ],
 "metadata": {
  "kernelspec": {
   "display_name": "Python 3 (ipykernel)",
   "language": "python",
   "name": "python3"
  },
  "language_info": {
   "codemirror_mode": {
    "name": "ipython",
    "version": 3
   },
   "file_extension": ".py",
   "mimetype": "text/x-python",
   "name": "python",
   "nbconvert_exporter": "python",
   "pygments_lexer": "ipython3",
   "version": "3.9.12"
  }
 },
 "nbformat": 4,
 "nbformat_minor": 5
}
