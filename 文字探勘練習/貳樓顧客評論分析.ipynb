{
 "cells": [
  {
   "cell_type": "code",
   "execution_count": 1,
   "id": "fb9e563f",
   "metadata": {},
   "outputs": [
    {
     "data": {
      "text/html": [
       "<div>\n",
       "<style scoped>\n",
       "    .dataframe tbody tr th:only-of-type {\n",
       "        vertical-align: middle;\n",
       "    }\n",
       "\n",
       "    .dataframe tbody tr th {\n",
       "        vertical-align: top;\n",
       "    }\n",
       "\n",
       "    .dataframe thead th {\n",
       "        text-align: right;\n",
       "    }\n",
       "</style>\n",
       "<table border=\"1\" class=\"dataframe\">\n",
       "  <thead>\n",
       "    <tr style=\"text-align: right;\">\n",
       "      <th></th>\n",
       "      <th>時間</th>\n",
       "      <th>星等</th>\n",
       "      <th>評價</th>\n",
       "    </tr>\n",
       "  </thead>\n",
       "  <tbody>\n",
       "    <tr>\n",
       "      <th>0</th>\n",
       "      <td>11月28日</td>\n",
       "      <td>1</td>\n",
       "      <td>明明訂位了 然後要等待位等了15分鐘 結果1&amp;2樓超空真的不知道要等什麼？？？\\n訂三人位只...</td>\n",
       "    </tr>\n",
       "    <tr>\n",
       "      <th>1</th>\n",
       "      <td>11月27日</td>\n",
       "      <td>4</td>\n",
       "      <td>多種美味的食物和飲料</td>\n",
       "    </tr>\n",
       "    <tr>\n",
       "      <th>2</th>\n",
       "      <td>11月27日</td>\n",
       "      <td>5</td>\n",
       "      <td>好吃!帶國外來的朋友來非常滿意～～</td>\n",
       "    </tr>\n",
       "    <tr>\n",
       "      <th>3</th>\n",
       "      <td>11月27日</td>\n",
       "      <td>3</td>\n",
       "      <td>出餐速度慢，如有趕時間建議外帶。</td>\n",
       "    </tr>\n",
       "    <tr>\n",
       "      <th>4</th>\n",
       "      <td>11月21日</td>\n",
       "      <td>5</td>\n",
       "      <td>適合聚餐，餐點好吃</td>\n",
       "    </tr>\n",
       "  </tbody>\n",
       "</table>\n",
       "</div>"
      ],
      "text/plain": [
       "       時間  星等                                                 評價\n",
       "0  11月28日   1  明明訂位了 然後要等待位等了15分鐘 結果1&2樓超空真的不知道要等什麼？？？\\n訂三人位只...\n",
       "1  11月27日   4                                         多種美味的食物和飲料\n",
       "2  11月27日   5                                  好吃!帶國外來的朋友來非常滿意～～\n",
       "3  11月27日   3                                   出餐速度慢，如有趕時間建議外帶。\n",
       "4  11月21日   5                                          適合聚餐，餐點好吃"
      ]
     },
     "execution_count": 1,
     "metadata": {},
     "output_type": "execute_result"
    }
   ],
   "source": [
    "import jieba\n",
    "import jieba.analyse\n",
    "import pandas as pd\n",
    "from collections import Counter\n",
    "orgdata = pd.read_csv(\"second floor.csv\")\n",
    "orgdata.head()"
   ]
  },
  {
   "cell_type": "code",
   "execution_count": 2,
   "id": "ac1c84e7",
   "metadata": {},
   "outputs": [
    {
     "name": "stderr",
     "output_type": "stream",
     "text": [
      "Building prefix dict from the default dictionary ...\n",
      "Loading model from cache /var/folders/w8/tmvlnn_j6c13rnh3g4zgpqhw0000gn/T/jieba.cache\n",
      "Loading model cost 0.948 seconds.\n",
      "Prefix dict has been built successfully.\n"
     ]
    },
    {
     "name": "stdout",
     "output_type": "stream",
     "text": [
      "我/是/臺/灣師/範大學/科技/系/113/級/李招蓁\n"
     ]
    }
   ],
   "source": [
    "documents = ['我是臺灣師範大學科技系113級李招蓁']#一段字串\n",
    "# 精確模式\n",
    "for sentence in documents:\n",
    "    seg_list = jieba.cut(sentence)#用jieba做cut斷詞\n",
    "    print('/'.join(seg_list))#印出來的內容用斜線隔開"
   ]
  },
  {
   "cell_type": "code",
   "execution_count": 3,
   "id": "1c9f0b99",
   "metadata": {},
   "outputs": [
    {
     "name": "stdout",
     "output_type": "stream",
     "text": [
      "我/是/臺灣/師範大學/科技系/113級/李招蓁\n"
     ]
    }
   ],
   "source": [
    "#載入自己建立斷詞文本\n",
    "jieba.load_userdict('./userdict.txt')\n",
    "\n",
    "for sentence in documents:\n",
    "    seg_list = jieba.cut(sentence)\n",
    "    print('/'.join(seg_list))"
   ]
  },
  {
   "cell_type": "code",
   "execution_count": 4,
   "id": "c43e4169",
   "metadata": {},
   "outputs": [
    {
     "data": {
      "text/html": [
       "<div>\n",
       "<style scoped>\n",
       "    .dataframe tbody tr th:only-of-type {\n",
       "        vertical-align: middle;\n",
       "    }\n",
       "\n",
       "    .dataframe tbody tr th {\n",
       "        vertical-align: top;\n",
       "    }\n",
       "\n",
       "    .dataframe thead th {\n",
       "        text-align: right;\n",
       "    }\n",
       "</style>\n",
       "<table border=\"1\" class=\"dataframe\">\n",
       "  <thead>\n",
       "    <tr style=\"text-align: right;\">\n",
       "      <th></th>\n",
       "      <th>時間</th>\n",
       "      <th>星等</th>\n",
       "      <th>評價</th>\n",
       "      <th>seg</th>\n",
       "    </tr>\n",
       "  </thead>\n",
       "  <tbody>\n",
       "    <tr>\n",
       "      <th>0</th>\n",
       "      <td>11月28日</td>\n",
       "      <td>1</td>\n",
       "      <td>明明訂位了 然後要等待位等了15分鐘 結果1&amp;2樓超空真的不知道要等什麼？？？\\n訂三人位只...</td>\n",
       "      <td></td>\n",
       "    </tr>\n",
       "    <tr>\n",
       "      <th>1</th>\n",
       "      <td>11月27日</td>\n",
       "      <td>4</td>\n",
       "      <td>多種美味的食物和飲料</td>\n",
       "      <td></td>\n",
       "    </tr>\n",
       "    <tr>\n",
       "      <th>2</th>\n",
       "      <td>11月27日</td>\n",
       "      <td>5</td>\n",
       "      <td>好吃!帶國外來的朋友來非常滿意～～</td>\n",
       "      <td></td>\n",
       "    </tr>\n",
       "    <tr>\n",
       "      <th>3</th>\n",
       "      <td>11月27日</td>\n",
       "      <td>3</td>\n",
       "      <td>出餐速度慢，如有趕時間建議外帶。</td>\n",
       "      <td></td>\n",
       "    </tr>\n",
       "    <tr>\n",
       "      <th>4</th>\n",
       "      <td>11月21日</td>\n",
       "      <td>5</td>\n",
       "      <td>適合聚餐，餐點好吃</td>\n",
       "      <td></td>\n",
       "    </tr>\n",
       "  </tbody>\n",
       "</table>\n",
       "</div>"
      ],
      "text/plain": [
       "       時間  星等                                                 評價 seg\n",
       "0  11月28日   1  明明訂位了 然後要等待位等了15分鐘 結果1&2樓超空真的不知道要等什麼？？？\\n訂三人位只...    \n",
       "1  11月27日   4                                         多種美味的食物和飲料    \n",
       "2  11月27日   5                                  好吃!帶國外來的朋友來非常滿意～～    \n",
       "3  11月27日   3                                   出餐速度慢，如有趕時間建議外帶。    \n",
       "4  11月21日   5                                          適合聚餐，餐點好吃    "
      ]
     },
     "execution_count": 4,
     "metadata": {},
     "output_type": "execute_result"
    }
   ],
   "source": [
    "#新增一個新欄位 來放斷詞\n",
    "orgdata['seg'] = \"\"\n",
    "orgdata.head()"
   ]
  },
  {
   "cell_type": "code",
   "execution_count": 5,
   "id": "2200499f",
   "metadata": {},
   "outputs": [
    {
     "name": "stderr",
     "output_type": "stream",
     "text": [
      "/var/folders/w8/tmvlnn_j6c13rnh3g4zgpqhw0000gn/T/ipykernel_4217/2886932042.py:6: SettingWithCopyWarning: \n",
      "A value is trying to be set on a copy of a slice from a DataFrame\n",
      "\n",
      "See the caveats in the documentation: https://pandas.pydata.org/pandas-docs/stable/user_guide/indexing.html#returning-a-view-versus-a-copy\n",
      "  orgdata['seg'].iloc[index] = seg_list\n"
     ]
    }
   ],
   "source": [
    "#jieba.analyse.set_stop_words('stopword.txt')\n",
    "index = 0\n",
    "for documents in orgdata['評價']:\n",
    "    seg_list = jieba.analyse.extract_tags(documents, 100)\n",
    "    #seg_list = jieba.lcut(documents)\n",
    "    orgdata['seg'].iloc[index] = seg_list\n",
    "    index += 1"
   ]
  },
  {
   "cell_type": "code",
   "execution_count": 6,
   "id": "993ebfcc",
   "metadata": {},
   "outputs": [
    {
     "name": "stdout",
     "output_type": "stream",
     "text": [
      "新\n",
      "鮮\n",
      "味\n",
      "美\n",
      "、\n",
      "服\n",
      "務\n",
      "親\n",
      "切\n",
      "、\n",
      "環\n",
      "境\n",
      "整\n",
      "潔\n",
      "、\n",
      "很\n",
      "美\n",
      "好\n",
      "的\n",
      "用\n",
      "餐\n",
      "地\n",
      "點\n",
      "！\n"
     ]
    }
   ],
   "source": [
    "#orgdata['seg']\n",
    "jieba.load_userdict('./userdict.txt')\n",
    "\n",
    "for sentence in documents:\n",
    "    seg_list = jieba.cut(sentence)\n",
    "    print('/'.join(seg_list))"
   ]
  },
  {
   "cell_type": "code",
   "execution_count": 7,
   "id": "64e5eb13",
   "metadata": {},
   "outputs": [
    {
     "data": {
      "text/plain": [
       "0     [結果, 餐具, 一半, 刀子, 訂位, 然後要, 15, 分鐘, 樓超空, 什麼, 訂三人...\n",
       "1                                      [多種, 飲料, 美味, 食物]\n",
       "2                              [帶國, 外來, 滿意, 好吃, 朋友, 非常]\n",
       "3                            [出餐, 趕時間, 建議, 外帶, 速度慢, 如有]\n",
       "4                                      [適合, 餐點, 聚餐, 好吃]\n",
       "5                     [環境, 服務佳, brunch, 不錯, 再訪, 口味, 值得]\n",
       "6                                                  [尚可]\n",
       "7                                  [還有, 停車, 洗手, 不便, 不好]\n",
       "8     [烤餅, 好吃, 咖喱, 搭配, 價位, 一間, 牛排, 水波, 咖啡, 師大, 看書, 我...\n",
       "9     [我們, 狗狗, 用餐, 女服, 11, 12, 氣氛, 服務, 餐廳, 去過, 最喜, 歡...\n",
       "10             [餐點, 準備, 給毛, 胸肉, 家裡, 喜歡, 狗狗, 小孩, 食物, 特殊]\n",
       "11    [覺得, 午餐, 包吃, 香水味, 仁愛路, 到師, 因為, 不習慣, 起來, 濃的, 我們...\n",
       "12                                        [還不錯, 店員, 親切]\n",
       "13    [關心, 狗狗, 用餐, 服務人員, Sophia, 態度, 親切, 適時, 顧客, 狀況,...\n",
       "14          [服務生, 很體, 幫忙, 嬰兒車, 餐點, 環境, 裝潢, 差了點, 好吃, 就是]\n",
       "15    [點餐, 餐點, 服務人員, 系統, 加購, 180, 附餐, 這次, 人點餐, 附上, 一...\n",
       "16                                             [台服, 務差]\n",
       "17          [服務佳, 環境, 整潔, 服務人員, 熱忱, 用餐, 心地, 留意, 客人, 需求]\n",
       "18    [人手不足, 感覺, 服務生, 送餐, 續杯, 結帳, 點慢, 改進, 則不錯, 太忙, 希...\n",
       "19                               [變不扎實, 用料, 四年, 普通, 一家]\n",
       "20                [外帶, 內用, 品質, 影響, 很棒, 口感, 不得不, 真的, 使用]\n",
       "21    [這次, 我們, 演員們, 互動, 每個, 橋段, 餐都, 餐點, 參加類, 活動, 用餐,...\n",
       "22                                            [裝飾, 很漂亮]\n",
       "23                    [新鮮味, 服務, 親切, 環境, 整潔, 地點, 用餐, 美好]\n",
       "Name: seg, dtype: object"
      ]
     },
     "execution_count": 7,
     "metadata": {},
     "output_type": "execute_result"
    }
   ],
   "source": [
    "orgdata['seg']"
   ]
  },
  {
   "cell_type": "code",
   "execution_count": 8,
   "id": "f4c470fb",
   "metadata": {},
   "outputs": [],
   "source": [
    "date_split = orgdata['時間'].iloc[0].split('.')"
   ]
  },
  {
   "cell_type": "code",
   "execution_count": 9,
   "id": "fbaef404",
   "metadata": {},
   "outputs": [
    {
     "data": {
      "text/plain": [
       "'11月28日'"
      ]
     },
     "execution_count": 9,
     "metadata": {},
     "output_type": "execute_result"
    }
   ],
   "source": [
    "date_split[0]"
   ]
  },
  {
   "cell_type": "code",
   "execution_count": 10,
   "id": "a9ce78e6",
   "metadata": {},
   "outputs": [
    {
     "name": "stderr",
     "output_type": "stream",
     "text": [
      "/var/folders/w8/tmvlnn_j6c13rnh3g4zgpqhw0000gn/T/ipykernel_4217/1269066769.py:5: SettingWithCopyWarning: \n",
      "A value is trying to be set on a copy of a slice from a DataFrame\n",
      "\n",
      "See the caveats in the documentation: https://pandas.pydata.org/pandas-docs/stable/user_guide/indexing.html#returning-a-view-versus-a-copy\n",
      "  orgdata['date'].iloc[index] = date_split[0]\n"
     ]
    }
   ],
   "source": [
    "orgdata['date'] = \"\"\n",
    "index = 0\n",
    "for documents in orgdata['時間']:\n",
    "    date_split = documents.split('.')\n",
    "    orgdata['date'].iloc[index] = date_split[0]\n",
    "    index += 1"
   ]
  },
  {
   "cell_type": "code",
   "execution_count": 11,
   "id": "54f46b58",
   "metadata": {},
   "outputs": [
    {
     "data": {
      "text/html": [
       "<div>\n",
       "<style scoped>\n",
       "    .dataframe tbody tr th:only-of-type {\n",
       "        vertical-align: middle;\n",
       "    }\n",
       "\n",
       "    .dataframe tbody tr th {\n",
       "        vertical-align: top;\n",
       "    }\n",
       "\n",
       "    .dataframe thead th {\n",
       "        text-align: right;\n",
       "    }\n",
       "</style>\n",
       "<table border=\"1\" class=\"dataframe\">\n",
       "  <thead>\n",
       "    <tr style=\"text-align: right;\">\n",
       "      <th></th>\n",
       "      <th>時間</th>\n",
       "      <th>星等</th>\n",
       "      <th>評價</th>\n",
       "      <th>seg</th>\n",
       "      <th>date</th>\n",
       "    </tr>\n",
       "  </thead>\n",
       "  <tbody>\n",
       "    <tr>\n",
       "      <th>0</th>\n",
       "      <td>11月28日</td>\n",
       "      <td>1</td>\n",
       "      <td>明明訂位了 然後要等待位等了15分鐘 結果1&amp;2樓超空真的不知道要等什麼？？？\\n訂三人位只...</td>\n",
       "      <td>[結果, 餐具, 一半, 刀子, 訂位, 然後要, 15, 分鐘, 樓超空, 什麼, 訂三人...</td>\n",
       "      <td>11月28日</td>\n",
       "    </tr>\n",
       "    <tr>\n",
       "      <th>1</th>\n",
       "      <td>11月27日</td>\n",
       "      <td>4</td>\n",
       "      <td>多種美味的食物和飲料</td>\n",
       "      <td>[多種, 飲料, 美味, 食物]</td>\n",
       "      <td>11月27日</td>\n",
       "    </tr>\n",
       "    <tr>\n",
       "      <th>2</th>\n",
       "      <td>11月27日</td>\n",
       "      <td>5</td>\n",
       "      <td>好吃!帶國外來的朋友來非常滿意～～</td>\n",
       "      <td>[帶國, 外來, 滿意, 好吃, 朋友, 非常]</td>\n",
       "      <td>11月27日</td>\n",
       "    </tr>\n",
       "    <tr>\n",
       "      <th>3</th>\n",
       "      <td>11月27日</td>\n",
       "      <td>3</td>\n",
       "      <td>出餐速度慢，如有趕時間建議外帶。</td>\n",
       "      <td>[出餐, 趕時間, 建議, 外帶, 速度慢, 如有]</td>\n",
       "      <td>11月27日</td>\n",
       "    </tr>\n",
       "    <tr>\n",
       "      <th>4</th>\n",
       "      <td>11月21日</td>\n",
       "      <td>5</td>\n",
       "      <td>適合聚餐，餐點好吃</td>\n",
       "      <td>[適合, 餐點, 聚餐, 好吃]</td>\n",
       "      <td>11月21日</td>\n",
       "    </tr>\n",
       "  </tbody>\n",
       "</table>\n",
       "</div>"
      ],
      "text/plain": [
       "       時間  星等                                                 評價  \\\n",
       "0  11月28日   1  明明訂位了 然後要等待位等了15分鐘 結果1&2樓超空真的不知道要等什麼？？？\\n訂三人位只...   \n",
       "1  11月27日   4                                         多種美味的食物和飲料   \n",
       "2  11月27日   5                                  好吃!帶國外來的朋友來非常滿意～～   \n",
       "3  11月27日   3                                   出餐速度慢，如有趕時間建議外帶。   \n",
       "4  11月21日   5                                          適合聚餐，餐點好吃   \n",
       "\n",
       "                                                 seg    date  \n",
       "0  [結果, 餐具, 一半, 刀子, 訂位, 然後要, 15, 分鐘, 樓超空, 什麼, 訂三人...  11月28日  \n",
       "1                                   [多種, 飲料, 美味, 食物]  11月27日  \n",
       "2                           [帶國, 外來, 滿意, 好吃, 朋友, 非常]  11月27日  \n",
       "3                         [出餐, 趕時間, 建議, 外帶, 速度慢, 如有]  11月27日  \n",
       "4                                   [適合, 餐點, 聚餐, 好吃]  11月21日  "
      ]
     },
     "execution_count": 11,
     "metadata": {},
     "output_type": "execute_result"
    }
   ],
   "source": [
    "orgdata.head()"
   ]
  },
  {
   "cell_type": "code",
   "execution_count": 12,
   "id": "4fa5843d",
   "metadata": {},
   "outputs": [],
   "source": [
    "orgdata.to_csv(\"更新版.csv\", index=False)"
   ]
  },
  {
   "cell_type": "code",
   "execution_count": 13,
   "id": "3b5ec2d3",
   "metadata": {},
   "outputs": [
    {
     "data": {
      "text/plain": [
       "dict_keys(['11月28日', '11月27日', '11月21日', '11月14日', '11月13日', '11月12日', '11月11日', '11月10日', '11月9日', '11月8日', '11月6日', '11月5日', '11月4日', '11月3日', '11月2日', '11月1日'])"
      ]
     },
     "execution_count": 13,
     "metadata": {},
     "output_type": "execute_result"
    }
   ],
   "source": [
    "Counter(orgdata['date']).keys()"
   ]
  },
  {
   "cell_type": "code",
   "execution_count": 14,
   "id": "bfcd8695",
   "metadata": {},
   "outputs": [],
   "source": [
    "words = list(orgdata['星等'])\n",
    "show_key = pd.DataFrame(Counter(words).keys())\n",
    "show_values = pd.DataFrame(Counter(words).values())"
   ]
  },
  {
   "cell_type": "code",
   "execution_count": 15,
   "id": "969ccec2",
   "metadata": {},
   "outputs": [],
   "source": [
    "df = [show_key, show_values]"
   ]
  },
  {
   "cell_type": "code",
   "execution_count": 18,
   "id": "5437f6ab",
   "metadata": {},
   "outputs": [
    {
     "data": {
      "text/html": [
       "<div>\n",
       "<style scoped>\n",
       "    .dataframe tbody tr th:only-of-type {\n",
       "        vertical-align: middle;\n",
       "    }\n",
       "\n",
       "    .dataframe tbody tr th {\n",
       "        vertical-align: top;\n",
       "    }\n",
       "\n",
       "    .dataframe thead th {\n",
       "        text-align: right;\n",
       "    }\n",
       "</style>\n",
       "<table border=\"1\" class=\"dataframe\">\n",
       "  <thead>\n",
       "    <tr style=\"text-align: right;\">\n",
       "      <th></th>\n",
       "      <th>星等</th>\n",
       "      <th>評論次數</th>\n",
       "    </tr>\n",
       "  </thead>\n",
       "  <tbody>\n",
       "    <tr>\n",
       "      <th>0</th>\n",
       "      <td>1</td>\n",
       "      <td>3</td>\n",
       "    </tr>\n",
       "    <tr>\n",
       "      <th>1</th>\n",
       "      <td>4</td>\n",
       "      <td>5</td>\n",
       "    </tr>\n",
       "    <tr>\n",
       "      <th>2</th>\n",
       "      <td>5</td>\n",
       "      <td>11</td>\n",
       "    </tr>\n",
       "    <tr>\n",
       "      <th>3</th>\n",
       "      <td>3</td>\n",
       "      <td>4</td>\n",
       "    </tr>\n",
       "    <tr>\n",
       "      <th>4</th>\n",
       "      <td>2</td>\n",
       "      <td>1</td>\n",
       "    </tr>\n",
       "  </tbody>\n",
       "</table>\n",
       "</div>"
      ],
      "text/plain": [
       "   星等  評論次數\n",
       "0   1     3\n",
       "1   4     5\n",
       "2   5    11\n",
       "3   3     4\n",
       "4   2     1"
      ]
     },
     "execution_count": 18,
     "metadata": {},
     "output_type": "execute_result"
    }
   ],
   "source": [
    "result = pd.concat(df, axis=1)\n",
    "result.columns = ['星等', '評論次數']\n",
    "result"
   ]
  },
  {
   "cell_type": "code",
   "execution_count": null,
   "id": "91c5e4cc",
   "metadata": {},
   "outputs": [],
   "source": []
  }
 ],
 "metadata": {
  "kernelspec": {
   "display_name": "Python 3 (ipykernel)",
   "language": "python",
   "name": "python3"
  },
  "language_info": {
   "codemirror_mode": {
    "name": "ipython",
    "version": 3
   },
   "file_extension": ".py",
   "mimetype": "text/x-python",
   "name": "python",
   "nbconvert_exporter": "python",
   "pygments_lexer": "ipython3",
   "version": "3.9.12"
  }
 },
 "nbformat": 4,
 "nbformat_minor": 5
}
