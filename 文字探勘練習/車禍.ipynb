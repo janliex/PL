{
 "cells": [
  {
   "cell_type": "code",
   "execution_count": 3,
   "id": "633c04f0",
   "metadata": {},
   "outputs": [],
   "source": [
    "import jieba\n",
    "import jieba.analyse\n",
    "import pandas as pd\n",
    "import numpy as np\n",
    "import re\n",
    "from collections import Counter"
   ]
  },
  {
   "cell_type": "markdown",
   "id": "a2212637",
   "metadata": {},
   "source": [
    "# 讀入csv檔"
   ]
  },
  {
   "cell_type": "code",
   "execution_count": 4,
   "id": "08fc938b",
   "metadata": {},
   "outputs": [],
   "source": [
    "orgdata = pd.read_csv('歷年重大交通事故地點.csv')"
   ]
  },
  {
   "cell_type": "code",
   "execution_count": 5,
   "id": "95018eaa",
   "metadata": {},
   "outputs": [
    {
     "data": {
      "text/html": [
       "<div>\n",
       "<style scoped>\n",
       "    .dataframe tbody tr th:only-of-type {\n",
       "        vertical-align: middle;\n",
       "    }\n",
       "\n",
       "    .dataframe tbody tr th {\n",
       "        vertical-align: top;\n",
       "    }\n",
       "\n",
       "    .dataframe thead th {\n",
       "        text-align: right;\n",
       "    }\n",
       "</style>\n",
       "<table border=\"1\" class=\"dataframe\">\n",
       "  <thead>\n",
       "    <tr style=\"text-align: right;\">\n",
       "      <th></th>\n",
       "      <th>ACCTIME</th>\n",
       "      <th>PLACE</th>\n",
       "      <th>DEAD</th>\n",
       "      <th>HURT</th>\n",
       "      <th>CARTYPE</th>\n",
       "      <th>RSN</th>\n",
       "    </tr>\n",
       "  </thead>\n",
       "  <tbody>\n",
       "    <tr>\n",
       "      <th>0</th>\n",
       "      <td>10:30</td>\n",
       "      <td>雲林縣麥寮鄉三盛村工業路520巷1號附近</td>\n",
       "      <td>4</td>\n",
       "      <td>3</td>\n",
       "      <td>自小客車、自小客車</td>\n",
       "      <td>側撞</td>\n",
       "    </tr>\n",
       "    <tr>\n",
       "      <th>1</th>\n",
       "      <td>20:59</td>\n",
       "      <td>國道5號北向轉國道3號南向系統匝道</td>\n",
       "      <td>33</td>\n",
       "      <td>11</td>\n",
       "      <td>營大客車</td>\n",
       "      <td>擦撞匝道外側護欄</td>\n",
       "    </tr>\n",
       "    <tr>\n",
       "      <th>2</th>\n",
       "      <td>7:20</td>\n",
       "      <td>苗栗縣苑裡鎮上館里75-7號(苗43線1.6公里處附近)</td>\n",
       "      <td>3</td>\n",
       "      <td>1</td>\n",
       "      <td>營大貨車、自大貨車</td>\n",
       "      <td>自撞電線桿</td>\n",
       "    </tr>\n",
       "    <tr>\n",
       "      <th>3</th>\n",
       "      <td>8:20</td>\n",
       "      <td>臺北市士林區仰德大道3段與新安路口</td>\n",
       "      <td>4</td>\n",
       "      <td>10</td>\n",
       "      <td>營大貨車、自小客車、普通重機</td>\n",
       "      <td>側撞、對撞</td>\n",
       "    </tr>\n",
       "    <tr>\n",
       "      <th>4</th>\n",
       "      <td>21:49</td>\n",
       "      <td>屏東縣萬丹鄉西環路與和平西路口及西環路與萬壽路口</td>\n",
       "      <td>3</td>\n",
       "      <td>7</td>\n",
       "      <td>自小貨車、自小客車</td>\n",
       "      <td>追撞、側撞</td>\n",
       "    </tr>\n",
       "  </tbody>\n",
       "</table>\n",
       "</div>"
      ],
      "text/plain": [
       "  ACCTIME                         PLACE  DEAD  HURT         CARTYPE       RSN\n",
       "0   10:30          雲林縣麥寮鄉三盛村工業路520巷1號附近     4     3       自小客車、自小客車        側撞\n",
       "1   20:59             國道5號北向轉國道3號南向系統匝道    33    11            營大客車  擦撞匝道外側護欄\n",
       "2    7:20  苗栗縣苑裡鎮上館里75-7號(苗43線1.6公里處附近)     3     1       營大貨車、自大貨車     自撞電線桿\n",
       "3    8:20             臺北市士林區仰德大道3段與新安路口     4    10  營大貨車、自小客車、普通重機     側撞、對撞\n",
       "4   21:49      屏東縣萬丹鄉西環路與和平西路口及西環路與萬壽路口     3     7       自小貨車、自小客車     追撞、側撞"
      ]
     },
     "execution_count": 5,
     "metadata": {},
     "output_type": "execute_result"
    }
   ],
   "source": [
    "orgdata.head()"
   ]
  },
  {
   "cell_type": "code",
   "execution_count": 6,
   "id": "5e759ba7",
   "metadata": {},
   "outputs": [
    {
     "name": "stderr",
     "output_type": "stream",
     "text": [
      "Building prefix dict from the default dictionary ...\n",
      "Dumping model to file cache /var/folders/w8/tmvlnn_j6c13rnh3g4zgpqhw0000gn/T/jieba.cache\n",
      "Loading model cost 1.119 seconds.\n",
      "Prefix dict has been built successfully.\n"
     ]
    },
    {
     "name": "stdout",
     "output_type": "stream",
     "text": [
      "我/是/臺/灣師/範大學/科技/系/113/級/李招蓁\n"
     ]
    }
   ],
   "source": [
    "documents = ['我是臺灣師範大學科技系113級李招蓁']#一段字串\n",
    "# 精確模式\n",
    "for sentence in documents:\n",
    "    seg_list = jieba.cut(sentence)#用jieba做cut斷詞\n",
    "    print('/'.join(seg_list))#印出來的內容用斜線隔開"
   ]
  },
  {
   "cell_type": "code",
   "execution_count": 7,
   "id": "9f092039",
   "metadata": {},
   "outputs": [
    {
     "name": "stdout",
     "output_type": "stream",
     "text": [
      "我/是/臺灣/師範大學/科技系/113級/李招蓁\n"
     ]
    }
   ],
   "source": [
    "#載入自己建立斷詞文本\n",
    "jieba.load_userdict('./userdict.txt')\n",
    "\n",
    "for sentence in documents:\n",
    "    seg_list = jieba.cut(sentence)\n",
    "    print('/'.join(seg_list))"
   ]
  },
  {
   "cell_type": "code",
   "execution_count": 8,
   "id": "95793769",
   "metadata": {},
   "outputs": [
    {
     "data": {
      "text/html": [
       "<div>\n",
       "<style scoped>\n",
       "    .dataframe tbody tr th:only-of-type {\n",
       "        vertical-align: middle;\n",
       "    }\n",
       "\n",
       "    .dataframe tbody tr th {\n",
       "        vertical-align: top;\n",
       "    }\n",
       "\n",
       "    .dataframe thead th {\n",
       "        text-align: right;\n",
       "    }\n",
       "</style>\n",
       "<table border=\"1\" class=\"dataframe\">\n",
       "  <thead>\n",
       "    <tr style=\"text-align: right;\">\n",
       "      <th></th>\n",
       "      <th>ACCTIME</th>\n",
       "      <th>PLACE</th>\n",
       "      <th>DEAD</th>\n",
       "      <th>HURT</th>\n",
       "      <th>CARTYPE</th>\n",
       "      <th>RSN</th>\n",
       "      <th>seg</th>\n",
       "    </tr>\n",
       "  </thead>\n",
       "  <tbody>\n",
       "    <tr>\n",
       "      <th>0</th>\n",
       "      <td>10:30</td>\n",
       "      <td>雲林縣麥寮鄉三盛村工業路520巷1號附近</td>\n",
       "      <td>4</td>\n",
       "      <td>3</td>\n",
       "      <td>自小客車、自小客車</td>\n",
       "      <td>側撞</td>\n",
       "      <td></td>\n",
       "    </tr>\n",
       "    <tr>\n",
       "      <th>1</th>\n",
       "      <td>20:59</td>\n",
       "      <td>國道5號北向轉國道3號南向系統匝道</td>\n",
       "      <td>33</td>\n",
       "      <td>11</td>\n",
       "      <td>營大客車</td>\n",
       "      <td>擦撞匝道外側護欄</td>\n",
       "      <td></td>\n",
       "    </tr>\n",
       "    <tr>\n",
       "      <th>2</th>\n",
       "      <td>7:20</td>\n",
       "      <td>苗栗縣苑裡鎮上館里75-7號(苗43線1.6公里處附近)</td>\n",
       "      <td>3</td>\n",
       "      <td>1</td>\n",
       "      <td>營大貨車、自大貨車</td>\n",
       "      <td>自撞電線桿</td>\n",
       "      <td></td>\n",
       "    </tr>\n",
       "    <tr>\n",
       "      <th>3</th>\n",
       "      <td>8:20</td>\n",
       "      <td>臺北市士林區仰德大道3段與新安路口</td>\n",
       "      <td>4</td>\n",
       "      <td>10</td>\n",
       "      <td>營大貨車、自小客車、普通重機</td>\n",
       "      <td>側撞、對撞</td>\n",
       "      <td></td>\n",
       "    </tr>\n",
       "    <tr>\n",
       "      <th>4</th>\n",
       "      <td>21:49</td>\n",
       "      <td>屏東縣萬丹鄉西環路與和平西路口及西環路與萬壽路口</td>\n",
       "      <td>3</td>\n",
       "      <td>7</td>\n",
       "      <td>自小貨車、自小客車</td>\n",
       "      <td>追撞、側撞</td>\n",
       "      <td></td>\n",
       "    </tr>\n",
       "  </tbody>\n",
       "</table>\n",
       "</div>"
      ],
      "text/plain": [
       "  ACCTIME                         PLACE  DEAD  HURT         CARTYPE       RSN  \\\n",
       "0   10:30          雲林縣麥寮鄉三盛村工業路520巷1號附近     4     3       自小客車、自小客車        側撞   \n",
       "1   20:59             國道5號北向轉國道3號南向系統匝道    33    11            營大客車  擦撞匝道外側護欄   \n",
       "2    7:20  苗栗縣苑裡鎮上館里75-7號(苗43線1.6公里處附近)     3     1       營大貨車、自大貨車     自撞電線桿   \n",
       "3    8:20             臺北市士林區仰德大道3段與新安路口     4    10  營大貨車、自小客車、普通重機     側撞、對撞   \n",
       "4   21:49      屏東縣萬丹鄉西環路與和平西路口及西環路與萬壽路口     3     7       自小貨車、自小客車     追撞、側撞   \n",
       "\n",
       "  seg  \n",
       "0      \n",
       "1      \n",
       "2      \n",
       "3      \n",
       "4      "
      ]
     },
     "execution_count": 8,
     "metadata": {},
     "output_type": "execute_result"
    }
   ],
   "source": [
    "#新增一個新欄位 來放斷詞\n",
    "orgdata['seg'] = \"\"\n",
    "orgdata.head()"
   ]
  },
  {
   "cell_type": "code",
   "execution_count": 9,
   "id": "1ee7b569",
   "metadata": {},
   "outputs": [
    {
     "name": "stderr",
     "output_type": "stream",
     "text": [
      "/var/folders/w8/tmvlnn_j6c13rnh3g4zgpqhw0000gn/T/ipykernel_820/2323853507.py:4: SettingWithCopyWarning: \n",
      "A value is trying to be set on a copy of a slice from a DataFrame\n",
      "\n",
      "See the caveats in the documentation: https://pandas.pydata.org/pandas-docs/stable/user_guide/indexing.html#returning-a-view-versus-a-copy\n",
      "  orgdata['seg'].iloc[index] = seg_list #存入seg_list\n"
     ]
    }
   ],
   "source": [
    "index = 0\n",
    "for documents in orgdata['RSN']:\n",
    "    seg_list = jieba.analyse.extract_tags(str(documents), 150) #前150個權重最高的單詞\n",
    "    orgdata['seg'].iloc[index] = seg_list #存入seg_list\n",
    "    index += 1\n",
    "    "
   ]
  },
  {
   "cell_type": "code",
   "execution_count": 23,
   "id": "c6dc6415",
   "metadata": {},
   "outputs": [
    {
     "data": {
      "text/plain": [
       "0                         [側撞]\n",
       "1                 [外側, 護欄, 匝道]\n",
       "2                    [自撞, 電線桿]\n",
       "3                         [側撞]\n",
       "4                     [追撞, 側撞]\n",
       "5                 [自撞, 內側, 護欄]\n",
       "6                        [自撞路]\n",
       "7            [帶護欄, 分隔, 跨越, 中央]\n",
       "8                         [追撞]\n",
       "9                         [追撞]\n",
       "10                        [側撞]\n",
       "11                        [追撞]\n",
       "12                    [自撞, 牌樓]\n",
       "13               [自撞, 島護欄, 分隔]\n",
       "14                        [追撞]\n",
       "15                        [追撞]\n",
       "16                        [追撞]\n",
       "17                    [路口, 交叉]\n",
       "18                        [同向]\n",
       "19                        [出路]\n",
       "20                   [撞路邊, 停車]\n",
       "21    [翻車, 危險, 洩漏, 摔倒, 物品, 路上]\n",
       "22                    [號誌, 標誌]\n",
       "23                        [追撞]\n",
       "24                        [追撞]\n",
       "25                        [撞護]\n",
       "26                        [撞護]\n",
       "27                    [翻車, 路上]\n",
       "28        [附載, 氣體, 燃燒, 甲醇, 出路]\n",
       "29                       [建築物]\n",
       "30                        [追撞]\n",
       "31                        [自撞]\n",
       "32                        [追撞]\n",
       "33                        [追撞]\n",
       "34        [翻車, 附載, 外洩, 硫酸, 路上]\n",
       "35        [翻車, 附載, 外洩, 硫酸, 路上]\n",
       "36       [翻車, 附載過, 氫外, 氧化, 路上]\n",
       "37                          []\n",
       "Name: seg, dtype: object"
      ]
     },
     "execution_count": 23,
     "metadata": {},
     "output_type": "execute_result"
    }
   ],
   "source": [
    "orgdata['seg']"
   ]
  },
  {
   "cell_type": "code",
   "execution_count": 10,
   "id": "cfdb7daf",
   "metadata": {},
   "outputs": [
    {
     "data": {
      "text/plain": [
       "list"
      ]
     },
     "execution_count": 10,
     "metadata": {},
     "output_type": "execute_result"
    }
   ],
   "source": [
    "data_seg_list = orgdata['seg'].tolist()\n",
    "type(data_seg_list)"
   ]
  },
  {
   "cell_type": "code",
   "execution_count": 11,
   "id": "ae229249",
   "metadata": {},
   "outputs": [
    {
     "data": {
      "image/png": "[encoded data removed]",
      "text/plain": [
       "<Figure size 720x720 with 1 Axes>"
      ]
     },
     "metadata": {
      "needs_background": "light"
     },
     "output_type": "display_data"
    }
   ],
   "source": [
    "flat = [x for datalist in data_seg_list for x in datalist]\n",
    "diction = Counter(flat)\n",
    "\n",
    "from PIL import Image\n",
    "import matplotlib.pyplot as plt\n",
    "from wordcloud import WordCloud\n",
    "\n",
    "mask = np.array(Image.open(\"car.png\"))\n",
    "font = \"/System/Library/Fonts/STHeiti Medium.ttc\"\n",
    "\n",
    "wordcloud = WordCloud(background_color = \"white\", font_path=font, mask = mask)\n",
    "wordcloud.generate_from_frequencies(diction)\n",
    "\n",
    "plt.figure(figsize=(10,10))\n",
    "plt.imshow(wordcloud)\n",
    "plt.axis(\"off\")\n",
    "plt.show()"
   ]
  },
  {
   "cell_type": "code",
   "execution_count": 12,
   "id": "dd4528db",
   "metadata": {},
   "outputs": [
    {
     "data": {
      "text/html": [
       "<div>\n",
       "<style scoped>\n",
       "    .dataframe tbody tr th:only-of-type {\n",
       "        vertical-align: middle;\n",
       "    }\n",
       "\n",
       "    .dataframe tbody tr th {\n",
       "        vertical-align: top;\n",
       "    }\n",
       "\n",
       "    .dataframe thead th {\n",
       "        text-align: right;\n",
       "    }\n",
       "</style>\n",
       "<table border=\"1\" class=\"dataframe\">\n",
       "  <thead>\n",
       "    <tr style=\"text-align: right;\">\n",
       "      <th></th>\n",
       "      <th>ACCTIME</th>\n",
       "      <th>PLACE</th>\n",
       "      <th>DEAD</th>\n",
       "      <th>HURT</th>\n",
       "      <th>CARTYPE</th>\n",
       "      <th>RSN</th>\n",
       "      <th>seg</th>\n",
       "    </tr>\n",
       "  </thead>\n",
       "  <tbody>\n",
       "    <tr>\n",
       "      <th>0</th>\n",
       "      <td>10:30</td>\n",
       "      <td>雲林縣麥寮鄉三盛村工業路520巷1號附近</td>\n",
       "      <td>4</td>\n",
       "      <td>3</td>\n",
       "      <td>自小客車、自小客車</td>\n",
       "      <td>側撞</td>\n",
       "      <td>[側撞]</td>\n",
       "    </tr>\n",
       "    <tr>\n",
       "      <th>1</th>\n",
       "      <td>20:59</td>\n",
       "      <td>國道5號北向轉國道3號南向系統匝道</td>\n",
       "      <td>33</td>\n",
       "      <td>11</td>\n",
       "      <td>營大客車</td>\n",
       "      <td>擦撞匝道外側護欄</td>\n",
       "      <td>[外側, 護欄, 匝道]</td>\n",
       "    </tr>\n",
       "    <tr>\n",
       "      <th>2</th>\n",
       "      <td>7:20</td>\n",
       "      <td>苗栗縣苑裡鎮上館里75-7號(苗43線1.6公里處附近)</td>\n",
       "      <td>3</td>\n",
       "      <td>1</td>\n",
       "      <td>營大貨車、自大貨車</td>\n",
       "      <td>自撞電線桿</td>\n",
       "      <td>[自撞, 電線桿]</td>\n",
       "    </tr>\n",
       "    <tr>\n",
       "      <th>3</th>\n",
       "      <td>8:20</td>\n",
       "      <td>臺北市士林區仰德大道3段與新安路口</td>\n",
       "      <td>4</td>\n",
       "      <td>10</td>\n",
       "      <td>營大貨車、自小客車、普通重機</td>\n",
       "      <td>側撞、對撞</td>\n",
       "      <td>[側撞]</td>\n",
       "    </tr>\n",
       "    <tr>\n",
       "      <th>4</th>\n",
       "      <td>21:49</td>\n",
       "      <td>屏東縣萬丹鄉西環路與和平西路口及西環路與萬壽路口</td>\n",
       "      <td>3</td>\n",
       "      <td>7</td>\n",
       "      <td>自小貨車、自小客車</td>\n",
       "      <td>追撞、側撞</td>\n",
       "      <td>[追撞, 側撞]</td>\n",
       "    </tr>\n",
       "  </tbody>\n",
       "</table>\n",
       "</div>"
      ],
      "text/plain": [
       "  ACCTIME                         PLACE  DEAD  HURT         CARTYPE       RSN  \\\n",
       "0   10:30          雲林縣麥寮鄉三盛村工業路520巷1號附近     4     3       自小客車、自小客車        側撞   \n",
       "1   20:59             國道5號北向轉國道3號南向系統匝道    33    11            營大客車  擦撞匝道外側護欄   \n",
       "2    7:20  苗栗縣苑裡鎮上館里75-7號(苗43線1.6公里處附近)     3     1       營大貨車、自大貨車     自撞電線桿   \n",
       "3    8:20             臺北市士林區仰德大道3段與新安路口     4    10  營大貨車、自小客車、普通重機     側撞、對撞   \n",
       "4   21:49      屏東縣萬丹鄉西環路與和平西路口及西環路與萬壽路口     3     7       自小貨車、自小客車     追撞、側撞   \n",
       "\n",
       "            seg  \n",
       "0          [側撞]  \n",
       "1  [外側, 護欄, 匝道]  \n",
       "2     [自撞, 電線桿]  \n",
       "3          [側撞]  \n",
       "4      [追撞, 側撞]  "
      ]
     },
     "execution_count": 12,
     "metadata": {},
     "output_type": "execute_result"
    }
   ],
   "source": [
    "orgdata.head()"
   ]
  },
  {
   "cell_type": "code",
   "execution_count": null,
   "id": "c1be0e4c",
   "metadata": {},
   "outputs": [],
   "source": []
  }
 ],
 "metadata": {
  "kernelspec": {
   "display_name": "Python 3 (ipykernel)",
   "language": "python",
   "name": "python3"
  },
  "language_info": {
   "codemirror_mode": {
    "name": "ipython",
    "version": 3
   },
   "file_extension": ".py",
   "mimetype": "text/x-python",
   "name": "python",
   "nbconvert_exporter": "python",
   "pygments_lexer": "ipython3",
   "version": "3.9.12"
  }
 },
 "nbformat": 4,
 "nbformat_minor": 5
}
